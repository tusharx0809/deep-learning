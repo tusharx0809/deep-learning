{
 "cells": [
  {
   "cell_type": "code",
   "execution_count": 1,
   "metadata": {},
   "outputs": [],
   "source": [
    "import matplotlib.pyplot as plt\n",
    "import numpy as np\n",
    "import pandas as pd\n",
    "import cv2\n",
    "import PIL\n",
    "import tensorflow as tf\n",
    "from tensorflow import keras\n",
    "from tensorflow.keras import layers\n",
    "from tensorflow.keras.models import Sequential\n",
    "import warnings\n",
    "warnings.filterwarnings(\"ignore\")"
   ]
  },
  {
   "cell_type": "code",
   "execution_count": 2,
   "metadata": {},
   "outputs": [
    {
     "data": {
      "text/plain": [
       "87000"
      ]
     },
     "execution_count": 2,
     "metadata": {},
     "output_type": "execute_result"
    }
   ],
   "source": [
    "import pathlib\n",
    "data_directory = pathlib.Path('dataset/asl_alphabet_train');\n",
    "len(list(data_directory.glob('*/*.jpg')))"
   ]
  },
  {
   "cell_type": "code",
   "execution_count": 3,
   "metadata": {},
   "outputs": [],
   "source": [
    "import os\n",
    "folder_names = [name for name in os.listdir(data_directory) if os.path.isdir(os.path.join(data_directory, name))]\n"
   ]
  },
  {
   "cell_type": "code",
   "execution_count": 4,
   "metadata": {},
   "outputs": [
    {
     "data": {
      "text/plain": [
       "(['A', 'B'], ['del', 'nothing', 'space'])"
      ]
     },
     "execution_count": 4,
     "metadata": {},
     "output_type": "execute_result"
    }
   ],
   "source": [
    "folder_names = sorted(folder_names, key=lambda x: (x[0].islower(), x))\n",
    "folder_names[:2], folder_names[26:]"
   ]
  },
  {
   "cell_type": "code",
   "execution_count": 5,
   "metadata": {},
   "outputs": [
    {
     "data": {
      "text/plain": [
       "(3000, 3000)"
      ]
     },
     "execution_count": 5,
     "metadata": {},
     "output_type": "execute_result"
    }
   ],
   "source": [
    "alphabet_images_dict = {\n",
    "    folder: list(data_directory.glob(f\"{folder}/*\"))\n",
    "    for folder in os.listdir(data_directory)\n",
    "    if(data_directory / folder).is_dir()\n",
    "}\n",
    "len(alphabet_images_dict['A']), len(alphabet_images_dict['del'])"
   ]
  },
  {
   "cell_type": "code",
   "execution_count": 6,
   "metadata": {},
   "outputs": [
    {
     "data": {
      "text/plain": [
       "(0, 1, 27)"
      ]
     },
     "execution_count": 6,
     "metadata": {},
     "output_type": "execute_result"
    }
   ],
   "source": [
    "alphabet_labels_dict = {\n",
    "    folder: index for index, folder in enumerate(folder_names)\n",
    "}\n",
    "alphabet_labels_dict['A'], alphabet_labels_dict['B'], alphabet_labels_dict['nothing']"
   ]
  },
  {
   "cell_type": "code",
   "execution_count": 7,
   "metadata": {},
   "outputs": [
    {
     "data": {
      "text/plain": [
       "(200, 200, 3)"
      ]
     },
     "execution_count": 7,
     "metadata": {},
     "output_type": "execute_result"
    }
   ],
   "source": [
    "img = cv2.imread(str(alphabet_images_dict['A'][0]))\n",
    "img.shape"
   ]
  },
  {
   "cell_type": "code",
   "execution_count": 8,
   "metadata": {},
   "outputs": [],
   "source": [
    "X = np.zeros((87000, 64, 64, 3), dtype=np.float32)\n",
    "y = np.zeros(87000, dtype=int)\n",
    "\n",
    "idx = 0\n",
    "for alphabet, images in alphabet_images_dict.items():\n",
    "    for image in images:\n",
    "        img = cv2.imread(str(image))\n",
    "        resized_img = cv2.resize(img,(64, 64))\n",
    "        X[idx] = resized_img\n",
    "        y[idx] = alphabet_labels_dict[alphabet]\n",
    "        idx += 1"
   ]
  },
  {
   "cell_type": "code",
   "execution_count": 9,
   "metadata": {},
   "outputs": [],
   "source": [
    "X_scaled = X / 255"
   ]
  },
  {
   "cell_type": "code",
   "execution_count": 10,
   "metadata": {},
   "outputs": [],
   "source": [
    "from sklearn.model_selection import train_test_split\n",
    "X_train, X_test, y_train, y_test = train_test_split(X_scaled, y, test_size=0.15, random_state=0)"
   ]
  },
  {
   "cell_type": "code",
   "execution_count": 11,
   "metadata": {},
   "outputs": [
    {
     "name": "stdout",
     "output_type": "stream",
     "text": [
      "Epoch 1/30\n",
      "\u001b[1m2310/2310\u001b[0m \u001b[32m━━━━━━━━━━━━━━━━━━━━\u001b[0m\u001b[37m\u001b[0m \u001b[1m260s\u001b[0m 111ms/step - accuracy: 0.3801 - loss: 2.0634\n",
      "Epoch 2/30\n",
      "\u001b[1m2310/2310\u001b[0m \u001b[32m━━━━━━━━━━━━━━━━━━━━\u001b[0m\u001b[37m\u001b[0m \u001b[1m0s\u001b[0m 6us/step - accuracy: 0.7812 - loss: 0.5379    \n",
      "Epoch 3/30\n",
      "\u001b[1m2310/2310\u001b[0m \u001b[32m━━━━━━━━━━━━━━━━━━━━\u001b[0m\u001b[37m\u001b[0m \u001b[1m255s\u001b[0m 111ms/step - accuracy: 0.8779 - loss: 0.3668\n",
      "Epoch 4/30\n",
      "\u001b[1m2310/2310\u001b[0m \u001b[32m━━━━━━━━━━━━━━━━━━━━\u001b[0m\u001b[37m\u001b[0m \u001b[1m0s\u001b[0m 2us/step - accuracy: 0.9375 - loss: 0.1652    \n",
      "Epoch 5/30\n",
      "\u001b[1m2310/2310\u001b[0m \u001b[32m━━━━━━━━━━━━━━━━━━━━\u001b[0m\u001b[37m\u001b[0m \u001b[1m263s\u001b[0m 114ms/step - accuracy: 0.9335 - loss: 0.2028\n",
      "Epoch 6/30\n",
      "\u001b[1m2310/2310\u001b[0m \u001b[32m━━━━━━━━━━━━━━━━━━━━\u001b[0m\u001b[37m\u001b[0m \u001b[1m0s\u001b[0m 3us/step - accuracy: 0.9375 - loss: 0.1285    \n",
      "Epoch 7/30\n",
      "\u001b[1m2310/2310\u001b[0m \u001b[32m━━━━━━━━━━━━━━━━━━━━\u001b[0m\u001b[37m\u001b[0m \u001b[1m263s\u001b[0m 114ms/step - accuracy: 0.9505 - loss: 0.1503\n",
      "Epoch 8/30\n",
      "\u001b[1m2310/2310\u001b[0m \u001b[32m━━━━━━━━━━━━━━━━━━━━\u001b[0m\u001b[37m\u001b[0m \u001b[1m0s\u001b[0m 3us/step - accuracy: 0.9688 - loss: 0.1087    \n",
      "Epoch 9/30\n",
      "\u001b[1m2310/2310\u001b[0m \u001b[32m━━━━━━━━━━━━━━━━━━━━\u001b[0m\u001b[37m\u001b[0m \u001b[1m260s\u001b[0m 112ms/step - accuracy: 0.9588 - loss: 0.1242\n",
      "Epoch 10/30\n",
      "\u001b[1m2310/2310\u001b[0m \u001b[32m━━━━━━━━━━━━━━━━━━━━\u001b[0m\u001b[37m\u001b[0m \u001b[1m0s\u001b[0m 7us/step - accuracy: 0.9688 - loss: 0.0863    \n",
      "Epoch 11/30\n",
      "\u001b[1m2310/2310\u001b[0m \u001b[32m━━━━━━━━━━━━━━━━━━━━\u001b[0m\u001b[37m\u001b[0m \u001b[1m260s\u001b[0m 112ms/step - accuracy: 0.9657 - loss: 0.1076\n",
      "Epoch 12/30\n",
      "\u001b[1m2310/2310\u001b[0m \u001b[32m━━━━━━━━━━━━━━━━━━━━\u001b[0m\u001b[37m\u001b[0m \u001b[1m0s\u001b[0m 2us/step - accuracy: 0.9688 - loss: 0.1493    \n",
      "Epoch 13/30\n",
      "\u001b[1m2310/2310\u001b[0m \u001b[32m━━━━━━━━━━━━━━━━━━━━\u001b[0m\u001b[37m\u001b[0m \u001b[1m260s\u001b[0m 112ms/step - accuracy: 0.9692 - loss: 0.0921\n",
      "Epoch 14/30\n",
      "\u001b[1m2310/2310\u001b[0m \u001b[32m━━━━━━━━━━━━━━━━━━━━\u001b[0m\u001b[37m\u001b[0m \u001b[1m0s\u001b[0m 2us/step - accuracy: 0.9375 - loss: 0.1490    \n",
      "Epoch 15/30\n",
      "\u001b[1m2310/2310\u001b[0m \u001b[32m━━━━━━━━━━━━━━━━━━━━\u001b[0m\u001b[37m\u001b[0m \u001b[1m259s\u001b[0m 112ms/step - accuracy: 0.9700 - loss: 0.0915\n",
      "Epoch 16/30\n",
      "\u001b[1m2310/2310\u001b[0m \u001b[32m━━━━━━━━━━━━━━━━━━━━\u001b[0m\u001b[37m\u001b[0m \u001b[1m0s\u001b[0m 3us/step - accuracy: 0.9688 - loss: 0.0765    \n",
      "Epoch 17/30\n",
      "\u001b[1m2310/2310\u001b[0m \u001b[32m━━━━━━━━━━━━━━━━━━━━\u001b[0m\u001b[37m\u001b[0m \u001b[1m260s\u001b[0m 112ms/step - accuracy: 0.9731 - loss: 0.0826\n",
      "Epoch 18/30\n",
      "\u001b[1m2310/2310\u001b[0m \u001b[32m━━━━━━━━━━━━━━━━━━━━\u001b[0m\u001b[37m\u001b[0m \u001b[1m0s\u001b[0m 2us/step - accuracy: 1.0000 - loss: 0.0177    \n",
      "Epoch 19/30\n",
      "\u001b[1m2310/2310\u001b[0m \u001b[32m━━━━━━━━━━━━━━━━━━━━\u001b[0m\u001b[37m\u001b[0m \u001b[1m259s\u001b[0m 112ms/step - accuracy: 0.9740 - loss: 0.0794\n",
      "Epoch 20/30\n",
      "\u001b[1m2310/2310\u001b[0m \u001b[32m━━━━━━━━━━━━━━━━━━━━\u001b[0m\u001b[37m\u001b[0m \u001b[1m0s\u001b[0m 2us/step - accuracy: 1.0000 - loss: 0.0099    \n",
      "Epoch 21/30\n",
      "\u001b[1m2310/2310\u001b[0m \u001b[32m━━━━━━━━━━━━━━━━━━━━\u001b[0m\u001b[37m\u001b[0m \u001b[1m258s\u001b[0m 112ms/step - accuracy: 0.9753 - loss: 0.0746\n",
      "Epoch 22/30\n",
      "\u001b[1m2310/2310\u001b[0m \u001b[32m━━━━━━━━━━━━━━━━━━━━\u001b[0m\u001b[37m\u001b[0m \u001b[1m0s\u001b[0m 2us/step - accuracy: 0.9688 - loss: 0.0943    \n",
      "Epoch 23/30\n",
      "\u001b[1m2310/2310\u001b[0m \u001b[32m━━━━━━━━━━━━━━━━━━━━\u001b[0m\u001b[37m\u001b[0m \u001b[1m261s\u001b[0m 113ms/step - accuracy: 0.9788 - loss: 0.0659\n",
      "Epoch 24/30\n",
      "\u001b[1m2310/2310\u001b[0m \u001b[32m━━━━━━━━━━━━━━━━━━━━\u001b[0m\u001b[37m\u001b[0m \u001b[1m0s\u001b[0m 2us/step - accuracy: 0.9688 - loss: 0.0283    \n",
      "Epoch 25/30\n",
      "\u001b[1m2310/2310\u001b[0m \u001b[32m━━━━━━━━━━━━━━━━━━━━\u001b[0m\u001b[37m\u001b[0m \u001b[1m263s\u001b[0m 114ms/step - accuracy: 0.9804 - loss: 0.0613\n",
      "Epoch 26/30\n",
      "\u001b[1m2310/2310\u001b[0m \u001b[32m━━━━━━━━━━━━━━━━━━━━\u001b[0m\u001b[37m\u001b[0m \u001b[1m0s\u001b[0m 2us/step - accuracy: 1.0000 - loss: 0.0228    \n",
      "Epoch 27/30\n",
      "\u001b[1m2310/2310\u001b[0m \u001b[32m━━━━━━━━━━━━━━━━━━━━\u001b[0m\u001b[37m\u001b[0m \u001b[1m259s\u001b[0m 112ms/step - accuracy: 0.9798 - loss: 0.0626\n",
      "Epoch 28/30\n",
      "\u001b[1m2310/2310\u001b[0m \u001b[32m━━━━━━━━━━━━━━━━━━━━\u001b[0m\u001b[37m\u001b[0m \u001b[1m0s\u001b[0m 2us/step - accuracy: 1.0000 - loss: 0.0352    \n",
      "Epoch 29/30\n",
      "\u001b[1m2310/2310\u001b[0m \u001b[32m━━━━━━━━━━━━━━━━━━━━\u001b[0m\u001b[37m\u001b[0m \u001b[1m261s\u001b[0m 113ms/step - accuracy: 0.9814 - loss: 0.0568\n",
      "Epoch 30/30\n",
      "\u001b[1m2310/2310\u001b[0m \u001b[32m━━━━━━━━━━━━━━━━━━━━\u001b[0m\u001b[37m\u001b[0m \u001b[1m0s\u001b[0m 2us/step - accuracy: 0.9688 - loss: 0.1046    \n"
     ]
    },
    {
     "data": {
      "text/plain": [
       "<keras.src.callbacks.history.History at 0x2161fc69550>"
      ]
     },
     "execution_count": 11,
     "metadata": {},
     "output_type": "execute_result"
    }
   ],
   "source": [
    "num_classes = 29\n",
    "\n",
    "# Model Definition\n",
    "model = Sequential([\n",
    "    layers.Conv2D(32, 3, padding='same', activation='relu'),\n",
    "    layers.BatchNormalization(),\n",
    "    layers.MaxPooling2D(),\n",
    "    layers.Dropout(0.2),\n",
    "\n",
    "    layers.Conv2D(64, 3, padding='same', activation='relu'),\n",
    "    layers.BatchNormalization(),\n",
    "    layers.MaxPooling2D(),\n",
    "    layers.Dropout(0.2),\n",
    "\n",
    "    layers.Conv2D(128, 3, padding='same', activation='relu'),\n",
    "    layers.BatchNormalization(),\n",
    "    layers.MaxPooling2D(),\n",
    "\n",
    "    layers.GlobalAveragePooling2D(),\n",
    "    layers.Dense(128, activation='relu'),\n",
    "    layers.Dropout(0.4),\n",
    "    layers.Dense(num_classes)\n",
    "])\n",
    "\n",
    "\n",
    "optimizer = tf.keras.optimizers.Adam(learning_rate=0.001)\n",
    "model.compile(\n",
    "    optimizer=optimizer,\n",
    "    loss=tf.keras.losses.SparseCategoricalCrossentropy(from_logits=True),\n",
    "    metrics=['accuracy']\n",
    ")\n",
    "\n",
    "\n",
    "datagen = tf.keras.preprocessing.image.ImageDataGenerator(\n",
    "    rotation_range=15,\n",
    "    width_shift_range=0.1,\n",
    "    height_shift_range=0.1,\n",
    "    zoom_range=0.2,\n",
    "    horizontal_flip=False\n",
    ")\n",
    "\n",
    "# Train the Model\n",
    "model.fit(\n",
    "    datagen.flow(X_train, y_train, batch_size=32),  \n",
    "    epochs=30,\n",
    "    steps_per_epoch=len(X_train) // 32  # Ensures one full pass over the dataset per epoch\n",
    ")\n"
   ]
  },
  {
   "cell_type": "code",
   "execution_count": 25,
   "metadata": {},
   "outputs": [
    {
     "name": "stdout",
     "output_type": "stream",
     "text": [
      "\u001b[1m2310/2310\u001b[0m \u001b[32m━━━━━━━━━━━━━━━━━━━━\u001b[0m\u001b[37m\u001b[0m \u001b[1m266s\u001b[0m 115ms/step - accuracy: 0.9821 - loss: 0.0548\n"
     ]
    },
    {
     "data": {
      "text/plain": [
       "<keras.src.callbacks.history.History at 0x21973961410>"
      ]
     },
     "execution_count": 25,
     "metadata": {},
     "output_type": "execute_result"
    }
   ],
   "source": [
    "model.fit(\n",
    "    datagen.flow(X_train, y_train, batch_size=32),  \n",
    "    epochs=1,  # Train for one more epoch\n",
    "    steps_per_epoch=len(X_train) // 32\n",
    ")"
   ]
  },
  {
   "cell_type": "code",
   "execution_count": 26,
   "metadata": {},
   "outputs": [
    {
     "name": "stdout",
     "output_type": "stream",
     "text": [
      "\u001b[1m408/408\u001b[0m \u001b[32m━━━━━━━━━━━━━━━━━━━━\u001b[0m\u001b[37m\u001b[0m \u001b[1m8s\u001b[0m 20ms/step - accuracy: 0.9892 - loss: 0.0313\n"
     ]
    },
    {
     "data": {
      "text/plain": [
       "[0.035003483295440674, 0.9885057210922241]"
      ]
     },
     "execution_count": 26,
     "metadata": {},
     "output_type": "execute_result"
    }
   ],
   "source": [
    "model.evaluate(X_test, y_test)"
   ]
  },
  {
   "cell_type": "code",
   "execution_count": 27,
   "metadata": {},
   "outputs": [
    {
     "data": {
      "text/plain": [
       "((13050, 64, 64, 3), (73950, 64, 64, 3))"
      ]
     },
     "execution_count": 27,
     "metadata": {},
     "output_type": "execute_result"
    }
   ],
   "source": [
    "X_test.shape, X_train.shape"
   ]
  },
  {
   "cell_type": "code",
   "execution_count": 28,
   "metadata": {},
   "outputs": [
    {
     "name": "stdout",
     "output_type": "stream",
     "text": [
      "\u001b[1m408/408\u001b[0m \u001b[32m━━━━━━━━━━━━━━━━━━━━\u001b[0m\u001b[37m\u001b[0m \u001b[1m8s\u001b[0m 20ms/step\n"
     ]
    }
   ],
   "source": [
    "predictions = model.predict(X_test)"
   ]
  },
  {
   "cell_type": "code",
   "execution_count": 29,
   "metadata": {},
   "outputs": [
    {
     "name": "stdout",
     "output_type": "stream",
     "text": [
      "\u001b[1m408/408\u001b[0m \u001b[32m━━━━━━━━━━━━━━━━━━━━\u001b[0m\u001b[37m\u001b[0m \u001b[1m8s\u001b[0m 20ms/step\n"
     ]
    },
    {
     "data": {
      "image/png": "[encoded data removed]",
      "text/plain": [
       "<Figure size 1000x800 with 2 Axes>"
      ]
     },
     "metadata": {},
     "output_type": "display_data"
    },
    {
     "data": {
      "text/plain": [
       "'              precision    recall  f1-score   support\\n\\n           0       1.00      1.00      1.00       429\\n           1       1.00      1.00      1.00       436\\n           2       1.00      1.00      1.00       445\\n           3       1.00      1.00      1.00       449\\n           4       1.00      0.99      1.00       456\\n           5       1.00      1.00      1.00       455\\n           6       1.00      1.00      1.00       428\\n           7       1.00      1.00      1.00       455\\n           8       1.00      1.00      1.00       461\\n           9       1.00      0.99      1.00       443\\n          10       1.00      0.99      1.00       485\\n          11       1.00      0.97      0.98       436\\n          12       0.99      0.93      0.96       454\\n          13       0.93      0.99      0.96       447\\n          14       1.00      0.99      1.00       455\\n          15       1.00      0.97      0.98       449\\n          16       0.99      0.95      0.97       475\\n          17       0.99      1.00      0.99       465\\n          18       0.99      0.96      0.97       477\\n          19       0.97      1.00      0.98       415\\n          20       1.00      0.98      0.99       445\\n          21       0.99      0.98      0.99       438\\n          22       1.00      0.99      0.99       444\\n          23       0.92      1.00      0.96       437\\n          24       1.00      1.00      1.00       414\\n          25       1.00      1.00      1.00       488\\n          26       0.92      1.00      0.96       443\\n          27       1.00      1.00      1.00       453\\n          28       1.00      1.00      1.00       473\\n\\n    accuracy                           0.99     13050\\n   macro avg       0.99      0.99      0.99     13050\\nweighted avg       0.99      0.99      0.99     13050\\n'"
      ]
     },
     "execution_count": 29,
     "metadata": {},
     "output_type": "execute_result"
    }
   ],
   "source": [
    "from sklearn.metrics import confusion_matrix, classification_report\n",
    "import seaborn as sns\n",
    "import matplotlib.pyplot as plt\n",
    "\n",
    "y_pred = np.argmax(model.predict(X_test), axis=1)\n",
    "cm = confusion_matrix(y_test, y_pred)\n",
    "\n",
    "plt.figure(figsize=(10, 8))\n",
    "sns.heatmap(cm, annot=True, fmt='d', cmap='Blues')\n",
    "plt.xlabel('Predicted')\n",
    "plt.ylabel('True')\n",
    "plt.title('Confusion Matrix')\n",
    "plt.show()\n",
    "\n",
    "classification_report(y_test, y_pred)\n"
   ]
  },
  {
   "cell_type": "code",
   "execution_count": 30,
   "metadata": {},
   "outputs": [
    {
     "name": "stdout",
     "output_type": "stream",
     "text": [
      "\u001b[1m408/408\u001b[0m \u001b[32m━━━━━━━━━━━━━━━━━━━━\u001b[0m\u001b[37m\u001b[0m \u001b[1m9s\u001b[0m 21ms/step\n"
     ]
    }
   ],
   "source": [
    "y_pred = np.argmax(model.predict(X_test), axis=1)\n"
   ]
  },
  {
   "cell_type": "code",
   "execution_count": 31,
   "metadata": {},
   "outputs": [
    {
     "data": {
      "text/plain": [
       "(array([22,  4, 14, 10, 13,  2, 11, 26, 26, 10,  6,  7, 20, 20, 25],\n",
       "       dtype=int64),\n",
       " array([22,  4, 14, 10, 13,  2, 11, 26, 26, 10,  6,  7, 20, 20, 25]))"
      ]
     },
     "execution_count": 31,
     "metadata": {},
     "output_type": "execute_result"
    }
   ],
   "source": [
    "y_pred[:15], y_test[:15]"
   ]
  },
  {
   "cell_type": "code",
   "execution_count": 32,
   "metadata": {},
   "outputs": [
    {
     "data": {
      "text/plain": [
       "29"
      ]
     },
     "execution_count": 32,
     "metadata": {},
     "output_type": "execute_result"
    }
   ],
   "source": [
    "test_directory = pathlib.Path('dataset/asl_alphabet_test');\n",
    "len(list(test_directory.glob('*/*.jpg')))"
   ]
  },
  {
   "cell_type": "code",
   "execution_count": 33,
   "metadata": {},
   "outputs": [
    {
     "data": {
      "text/plain": [
       "['dataset\\\\asl_alphabet_test\\\\test\\\\A_test.jpg',\n",
       " 'dataset\\\\asl_alphabet_test\\\\test\\\\B_test.jpg',\n",
       " 'dataset\\\\asl_alphabet_test\\\\test\\\\C_test.jpg',\n",
       " 'dataset\\\\asl_alphabet_test\\\\test\\\\del_test.jpg',\n",
       " 'dataset\\\\asl_alphabet_test\\\\test\\\\D_test.jpg',\n",
       " 'dataset\\\\asl_alphabet_test\\\\test\\\\E_test.jpg',\n",
       " 'dataset\\\\asl_alphabet_test\\\\test\\\\F_test.jpg',\n",
       " 'dataset\\\\asl_alphabet_test\\\\test\\\\G_test.jpg',\n",
       " 'dataset\\\\asl_alphabet_test\\\\test\\\\H_test.jpg',\n",
       " 'dataset\\\\asl_alphabet_test\\\\test\\\\I_test.jpg',\n",
       " 'dataset\\\\asl_alphabet_test\\\\test\\\\J_test.jpg',\n",
       " 'dataset\\\\asl_alphabet_test\\\\test\\\\K_test.jpg',\n",
       " 'dataset\\\\asl_alphabet_test\\\\test\\\\L_test.jpg',\n",
       " 'dataset\\\\asl_alphabet_test\\\\test\\\\M_test.jpg',\n",
       " 'dataset\\\\asl_alphabet_test\\\\test\\\\nothing_test.jpg',\n",
       " 'dataset\\\\asl_alphabet_test\\\\test\\\\N_test.jpg',\n",
       " 'dataset\\\\asl_alphabet_test\\\\test\\\\O_test.jpg',\n",
       " 'dataset\\\\asl_alphabet_test\\\\test\\\\P_test.jpg',\n",
       " 'dataset\\\\asl_alphabet_test\\\\test\\\\Q_test.jpg',\n",
       " 'dataset\\\\asl_alphabet_test\\\\test\\\\R_test.jpg',\n",
       " 'dataset\\\\asl_alphabet_test\\\\test\\\\space_test.jpg',\n",
       " 'dataset\\\\asl_alphabet_test\\\\test\\\\S_test.jpg',\n",
       " 'dataset\\\\asl_alphabet_test\\\\test\\\\T_test.jpg',\n",
       " 'dataset\\\\asl_alphabet_test\\\\test\\\\U_test.jpg',\n",
       " 'dataset\\\\asl_alphabet_test\\\\test\\\\V_test.jpg',\n",
       " 'dataset\\\\asl_alphabet_test\\\\test\\\\W_test.jpg',\n",
       " 'dataset\\\\asl_alphabet_test\\\\test\\\\X_test.jpg',\n",
       " 'dataset\\\\asl_alphabet_test\\\\test\\\\Y_test.jpg',\n",
       " 'dataset\\\\asl_alphabet_test\\\\test\\\\Z_test.jpg']"
      ]
     },
     "execution_count": 33,
     "metadata": {},
     "output_type": "execute_result"
    }
   ],
   "source": [
    "jpg_files = [str(file) for file in test_directory.glob('*/*.jpg')]\n",
    "jpg_files"
   ]
  },
  {
   "cell_type": "code",
   "execution_count": 34,
   "metadata": {},
   "outputs": [
    {
     "name": "stdout",
     "output_type": "stream",
     "text": [
      "\u001b[1m1/1\u001b[0m \u001b[32m━━━━━━━━━━━━━━━━━━━━\u001b[0m\u001b[37m\u001b[0m \u001b[1m0s\u001b[0m 27ms/step\n"
     ]
    },
    {
     "name": "stdout",
     "output_type": "stream",
     "text": [
      "\u001b[1m1/1\u001b[0m \u001b[32m━━━━━━━━━━━━━━━━━━━━\u001b[0m\u001b[37m\u001b[0m \u001b[1m0s\u001b[0m 24ms/step\n",
      "\u001b[1m1/1\u001b[0m \u001b[32m━━━━━━━━━━━━━━━━━━━━\u001b[0m\u001b[37m\u001b[0m \u001b[1m0s\u001b[0m 22ms/step\n",
      "\u001b[1m1/1\u001b[0m \u001b[32m━━━━━━━━━━━━━━━━━━━━\u001b[0m\u001b[37m\u001b[0m \u001b[1m0s\u001b[0m 23ms/step\n",
      "\u001b[1m1/1\u001b[0m \u001b[32m━━━━━━━━━━━━━━━━━━━━\u001b[0m\u001b[37m\u001b[0m \u001b[1m0s\u001b[0m 24ms/step\n",
      "\u001b[1m1/1\u001b[0m \u001b[32m━━━━━━━━━━━━━━━━━━━━\u001b[0m\u001b[37m\u001b[0m \u001b[1m0s\u001b[0m 24ms/step\n",
      "\u001b[1m1/1\u001b[0m \u001b[32m━━━━━━━━━━━━━━━━━━━━\u001b[0m\u001b[37m\u001b[0m \u001b[1m0s\u001b[0m 28ms/step\n",
      "\u001b[1m1/1\u001b[0m \u001b[32m━━━━━━━━━━━━━━━━━━━━\u001b[0m\u001b[37m\u001b[0m \u001b[1m0s\u001b[0m 29ms/step\n",
      "\u001b[1m1/1\u001b[0m \u001b[32m━━━━━━━━━━━━━━━━━━━━\u001b[0m\u001b[37m\u001b[0m \u001b[1m0s\u001b[0m 33ms/step\n",
      "\u001b[1m1/1\u001b[0m \u001b[32m━━━━━━━━━━━━━━━━━━━━\u001b[0m\u001b[37m\u001b[0m \u001b[1m0s\u001b[0m 23ms/step\n",
      "\u001b[1m1/1\u001b[0m \u001b[32m━━━━━━━━━━━━━━━━━━━━\u001b[0m\u001b[37m\u001b[0m \u001b[1m0s\u001b[0m 23ms/step\n",
      "\u001b[1m1/1\u001b[0m \u001b[32m━━━━━━━━━━━━━━━━━━━━\u001b[0m\u001b[37m\u001b[0m \u001b[1m0s\u001b[0m 22ms/step\n",
      "\u001b[1m1/1\u001b[0m \u001b[32m━━━━━━━━━━━━━━━━━━━━\u001b[0m\u001b[37m\u001b[0m \u001b[1m0s\u001b[0m 23ms/step\n",
      "\u001b[1m1/1\u001b[0m \u001b[32m━━━━━━━━━━━━━━━━━━━━\u001b[0m\u001b[37m\u001b[0m \u001b[1m0s\u001b[0m 23ms/step\n",
      "\u001b[1m1/1\u001b[0m \u001b[32m━━━━━━━━━━━━━━━━━━━━\u001b[0m\u001b[37m\u001b[0m \u001b[1m0s\u001b[0m 22ms/step\n",
      "\u001b[1m1/1\u001b[0m \u001b[32m━━━━━━━━━━━━━━━━━━━━\u001b[0m\u001b[37m\u001b[0m \u001b[1m0s\u001b[0m 22ms/step\n",
      "\u001b[1m1/1\u001b[0m \u001b[32m━━━━━━━━━━━━━━━━━━━━\u001b[0m\u001b[37m\u001b[0m \u001b[1m0s\u001b[0m 23ms/step\n",
      "\u001b[1m1/1\u001b[0m \u001b[32m━━━━━━━━━━━━━━━━━━━━\u001b[0m\u001b[37m\u001b[0m \u001b[1m0s\u001b[0m 23ms/step\n",
      "\u001b[1m1/1\u001b[0m \u001b[32m━━━━━━━━━━━━━━━━━━━━\u001b[0m\u001b[37m\u001b[0m \u001b[1m0s\u001b[0m 26ms/step\n",
      "\u001b[1m1/1\u001b[0m \u001b[32m━━━━━━━━━━━━━━━━━━━━\u001b[0m\u001b[37m\u001b[0m \u001b[1m0s\u001b[0m 25ms/step\n",
      "\u001b[1m1/1\u001b[0m \u001b[32m━━━━━━━━━━━━━━━━━━━━\u001b[0m\u001b[37m\u001b[0m \u001b[1m0s\u001b[0m 24ms/step\n",
      "\u001b[1m1/1\u001b[0m \u001b[32m━━━━━━━━━━━━━━━━━━━━\u001b[0m\u001b[37m\u001b[0m \u001b[1m0s\u001b[0m 24ms/step\n",
      "\u001b[1m1/1\u001b[0m \u001b[32m━━━━━━━━━━━━━━━━━━━━\u001b[0m\u001b[37m\u001b[0m \u001b[1m0s\u001b[0m 25ms/step\n",
      "\u001b[1m1/1\u001b[0m \u001b[32m━━━━━━━━━━━━━━━━━━━━\u001b[0m\u001b[37m\u001b[0m \u001b[1m0s\u001b[0m 25ms/step\n",
      "\u001b[1m1/1\u001b[0m \u001b[32m━━━━━━━━━━━━━━━━━━━━\u001b[0m\u001b[37m\u001b[0m \u001b[1m0s\u001b[0m 23ms/step\n",
      "\u001b[1m1/1\u001b[0m \u001b[32m━━━━━━━━━━━━━━━━━━━━\u001b[0m\u001b[37m\u001b[0m \u001b[1m0s\u001b[0m 23ms/step\n",
      "\u001b[1m1/1\u001b[0m \u001b[32m━━━━━━━━━━━━━━━━━━━━\u001b[0m\u001b[37m\u001b[0m \u001b[1m0s\u001b[0m 23ms/step\n",
      "\u001b[1m1/1\u001b[0m \u001b[32m━━━━━━━━━━━━━━━━━━━━\u001b[0m\u001b[37m\u001b[0m \u001b[1m0s\u001b[0m 25ms/step\n",
      "\u001b[1m1/1\u001b[0m \u001b[32m━━━━━━━━━━━━━━━━━━━━\u001b[0m\u001b[37m\u001b[0m \u001b[1m0s\u001b[0m 24ms/step\n"
     ]
    }
   ],
   "source": [
    "predictions_dict = {}\n",
    "for i in jpg_files:\n",
    "    img = cv2.imread(i)\n",
    "    resized_img = cv2.resize(img,(64,64))\n",
    "    scaled_img = resized_img.astype(np.float32) / 255.0\n",
    "    scaled_img = np.expand_dims(scaled_img, axis=0)\n",
    "    pred = np.argmax(model.predict(scaled_img))\n",
    "    predictions_dict[i] = pred"
   ]
  },
  {
   "cell_type": "code",
   "execution_count": 35,
   "metadata": {},
   "outputs": [
    {
     "data": {
      "text/plain": [
       "{'dataset\\\\asl_alphabet_test\\\\test\\\\A_test.jpg': 0,\n",
       " 'dataset\\\\asl_alphabet_test\\\\test\\\\B_test.jpg': 1,\n",
       " 'dataset\\\\asl_alphabet_test\\\\test\\\\C_test.jpg': 2,\n",
       " 'dataset\\\\asl_alphabet_test\\\\test\\\\del_test.jpg': 26,\n",
       " 'dataset\\\\asl_alphabet_test\\\\test\\\\D_test.jpg': 3,\n",
       " 'dataset\\\\asl_alphabet_test\\\\test\\\\E_test.jpg': 4,\n",
       " 'dataset\\\\asl_alphabet_test\\\\test\\\\F_test.jpg': 5,\n",
       " 'dataset\\\\asl_alphabet_test\\\\test\\\\G_test.jpg': 6,\n",
       " 'dataset\\\\asl_alphabet_test\\\\test\\\\H_test.jpg': 7,\n",
       " 'dataset\\\\asl_alphabet_test\\\\test\\\\I_test.jpg': 8,\n",
       " 'dataset\\\\asl_alphabet_test\\\\test\\\\J_test.jpg': 9,\n",
       " 'dataset\\\\asl_alphabet_test\\\\test\\\\K_test.jpg': 10,\n",
       " 'dataset\\\\asl_alphabet_test\\\\test\\\\L_test.jpg': 11,\n",
       " 'dataset\\\\asl_alphabet_test\\\\test\\\\M_test.jpg': 12,\n",
       " 'dataset\\\\asl_alphabet_test\\\\test\\\\nothing_test.jpg': 27,\n",
       " 'dataset\\\\asl_alphabet_test\\\\test\\\\N_test.jpg': 13,\n",
       " 'dataset\\\\asl_alphabet_test\\\\test\\\\O_test.jpg': 14,\n",
       " 'dataset\\\\asl_alphabet_test\\\\test\\\\P_test.jpg': 15,\n",
       " 'dataset\\\\asl_alphabet_test\\\\test\\\\Q_test.jpg': 16,\n",
       " 'dataset\\\\asl_alphabet_test\\\\test\\\\R_test.jpg': 17,\n",
       " 'dataset\\\\asl_alphabet_test\\\\test\\\\space_test.jpg': 28,\n",
       " 'dataset\\\\asl_alphabet_test\\\\test\\\\S_test.jpg': 18,\n",
       " 'dataset\\\\asl_alphabet_test\\\\test\\\\T_test.jpg': 19,\n",
       " 'dataset\\\\asl_alphabet_test\\\\test\\\\U_test.jpg': 20,\n",
       " 'dataset\\\\asl_alphabet_test\\\\test\\\\V_test.jpg': 21,\n",
       " 'dataset\\\\asl_alphabet_test\\\\test\\\\W_test.jpg': 22,\n",
       " 'dataset\\\\asl_alphabet_test\\\\test\\\\X_test.jpg': 23,\n",
       " 'dataset\\\\asl_alphabet_test\\\\test\\\\Y_test.jpg': 24,\n",
       " 'dataset\\\\asl_alphabet_test\\\\test\\\\Z_test.jpg': 25}"
      ]
     },
     "execution_count": 35,
     "metadata": {},
     "output_type": "execute_result"
    }
   ],
   "source": [
    "predictions_dict"
   ]
  },
  {
   "cell_type": "code",
   "execution_count": 36,
   "metadata": {},
   "outputs": [],
   "source": [
    "for key, value in predictions_dict.items():\n",
    "    for alpha, label in alphabet_labels_dict.items():\n",
    "        if value == label:\n",
    "            predictions_dict[key] = alpha"
   ]
  },
  {
   "cell_type": "code",
   "execution_count": 37,
   "metadata": {},
   "outputs": [
    {
     "data": {
      "text/plain": [
       "{'dataset\\\\asl_alphabet_test\\\\test\\\\A_test.jpg': 'A',\n",
       " 'dataset\\\\asl_alphabet_test\\\\test\\\\B_test.jpg': 'B',\n",
       " 'dataset\\\\asl_alphabet_test\\\\test\\\\C_test.jpg': 'C',\n",
       " 'dataset\\\\asl_alphabet_test\\\\test\\\\del_test.jpg': 'del',\n",
       " 'dataset\\\\asl_alphabet_test\\\\test\\\\D_test.jpg': 'D',\n",
       " 'dataset\\\\asl_alphabet_test\\\\test\\\\E_test.jpg': 'E',\n",
       " 'dataset\\\\asl_alphabet_test\\\\test\\\\F_test.jpg': 'F',\n",
       " 'dataset\\\\asl_alphabet_test\\\\test\\\\G_test.jpg': 'G',\n",
       " 'dataset\\\\asl_alphabet_test\\\\test\\\\H_test.jpg': 'H',\n",
       " 'dataset\\\\asl_alphabet_test\\\\test\\\\I_test.jpg': 'I',\n",
       " 'dataset\\\\asl_alphabet_test\\\\test\\\\J_test.jpg': 'J',\n",
       " 'dataset\\\\asl_alphabet_test\\\\test\\\\K_test.jpg': 'K',\n",
       " 'dataset\\\\asl_alphabet_test\\\\test\\\\L_test.jpg': 'L',\n",
       " 'dataset\\\\asl_alphabet_test\\\\test\\\\M_test.jpg': 'M',\n",
       " 'dataset\\\\asl_alphabet_test\\\\test\\\\nothing_test.jpg': 'nothing',\n",
       " 'dataset\\\\asl_alphabet_test\\\\test\\\\N_test.jpg': 'N',\n",
       " 'dataset\\\\asl_alphabet_test\\\\test\\\\O_test.jpg': 'O',\n",
       " 'dataset\\\\asl_alphabet_test\\\\test\\\\P_test.jpg': 'P',\n",
       " 'dataset\\\\asl_alphabet_test\\\\test\\\\Q_test.jpg': 'Q',\n",
       " 'dataset\\\\asl_alphabet_test\\\\test\\\\R_test.jpg': 'R',\n",
       " 'dataset\\\\asl_alphabet_test\\\\test\\\\space_test.jpg': 'space',\n",
       " 'dataset\\\\asl_alphabet_test\\\\test\\\\S_test.jpg': 'S',\n",
       " 'dataset\\\\asl_alphabet_test\\\\test\\\\T_test.jpg': 'T',\n",
       " 'dataset\\\\asl_alphabet_test\\\\test\\\\U_test.jpg': 'U',\n",
       " 'dataset\\\\asl_alphabet_test\\\\test\\\\V_test.jpg': 'V',\n",
       " 'dataset\\\\asl_alphabet_test\\\\test\\\\W_test.jpg': 'W',\n",
       " 'dataset\\\\asl_alphabet_test\\\\test\\\\X_test.jpg': 'X',\n",
       " 'dataset\\\\asl_alphabet_test\\\\test\\\\Y_test.jpg': 'Y',\n",
       " 'dataset\\\\asl_alphabet_test\\\\test\\\\Z_test.jpg': 'Z'}"
      ]
     },
     "execution_count": 37,
     "metadata": {},
     "output_type": "execute_result"
    }
   ],
   "source": [
    "predictions_dict"
   ]
  },
  {
   "cell_type": "code",
   "execution_count": 38,
   "metadata": {},
   "outputs": [
    {
     "name": "stderr",
     "output_type": "stream",
     "text": [
      "WARNING:absl:You are saving your model as an HDF5 file via `model.save()` or `keras.saving.save_model(model)`. This file format is considered legacy. We recommend using instead the native Keras format, e.g. `model.save('my_model.keras')` or `keras.saving.save_model(model, 'my_model.keras')`. \n"
     ]
    }
   ],
   "source": [
    "model.save('SignLanguageRecognition.h5')"
   ]
  }
 ],
 "metadata": {
  "kernelspec": {
   "display_name": "Python 3",
   "language": "python",
   "name": "python3"
  },
  "language_info": {
   "codemirror_mode": {
    "name": "ipython",
    "version": 3
   },
   "file_extension": ".py",
   "mimetype": "text/x-python",
   "name": "python",
   "nbconvert_exporter": "python",
   "pygments_lexer": "ipython3",
   "version": "3.11.0"
  }
 },
 "nbformat": 4,
 "nbformat_minor": 2
}
