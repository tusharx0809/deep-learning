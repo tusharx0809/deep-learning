{
 "cells": [
  {
   "cell_type": "code",
   "execution_count": 1,
   "metadata": {},
   "outputs": [],
   "source": [
    "import matplotlib.pyplot as plt\n",
    "import numpy as np\n",
    "import pandas as pd\n",
    "import cv2\n",
    "import PIL\n",
    "import tensorflow as tf\n",
    "from tensorflow import keras\n",
    "from tensorflow.keras import layers\n",
    "from tensorflow.keras.models import Sequential\n",
    "import warnings\n",
    "warnings.filterwarnings(\"ignore\")"
   ]
  },
  {
   "cell_type": "code",
   "execution_count": 2,
   "metadata": {},
   "outputs": [
    {
     "data": {
      "text/plain": [
       "87000"
      ]
     },
     "execution_count": 2,
     "metadata": {},
     "output_type": "execute_result"
    }
   ],
   "source": [
    "import pathlib\n",
    "data_directory = pathlib.Path('dataset-87000/asl_alphabet_train');\n",
    "len(list(data_directory.glob('*/*.jpg')))"
   ]
  },
  {
   "cell_type": "code",
   "execution_count": 3,
   "metadata": {},
   "outputs": [],
   "source": [
    "import os\n",
    "folder_names = [name for name in os.listdir(data_directory) if os.path.isdir(os.path.join(data_directory, name))]\n"
   ]
  },
  {
   "cell_type": "code",
   "execution_count": 4,
   "metadata": {},
   "outputs": [
    {
     "data": {
      "text/plain": [
       "(['A', 'B'], ['del', 'nothing', 'space'])"
      ]
     },
     "execution_count": 4,
     "metadata": {},
     "output_type": "execute_result"
    }
   ],
   "source": [
    "folder_names = sorted(folder_names, key=lambda x: (x[0].islower(), x))\n",
    "folder_names[:2], folder_names[26:]"
   ]
  },
  {
   "cell_type": "code",
   "execution_count": 5,
   "metadata": {},
   "outputs": [
    {
     "data": {
      "text/plain": [
       "87000"
      ]
     },
     "execution_count": 5,
     "metadata": {},
     "output_type": "execute_result"
    }
   ],
   "source": [
    "alphabet_images_dict = {\n",
    "    folder: list(data_directory.glob(f\"{folder}/*\"))\n",
    "    for folder in os.listdir(data_directory)\n",
    "    if(data_directory / folder).is_dir()\n",
    "}\n",
    "total_images_dict = sum(len(images) for images in alphabet_images_dict.values())\n",
    "total_images_dict"
   ]
  },
  {
   "cell_type": "code",
   "execution_count": 6,
   "metadata": {},
   "outputs": [
    {
     "data": {
      "text/plain": [
       "(0, 1)"
      ]
     },
     "execution_count": 6,
     "metadata": {},
     "output_type": "execute_result"
    }
   ],
   "source": [
    "alphabet_labels_dict = {\n",
    "    folder: index for index, folder in enumerate(folder_names)\n",
    "}\n",
    "alphabet_labels_dict['A'], alphabet_labels_dict['B']"
   ]
  },
  {
   "cell_type": "code",
   "execution_count": 7,
   "metadata": {},
   "outputs": [
    {
     "data": {
      "text/plain": [
       "(200, 200, 3)"
      ]
     },
     "execution_count": 7,
     "metadata": {},
     "output_type": "execute_result"
    }
   ],
   "source": [
    "img = cv2.imread(str(alphabet_images_dict['A'][0]))\n",
    "img.shape"
   ]
  },
  {
   "cell_type": "code",
   "execution_count": 8,
   "metadata": {},
   "outputs": [],
   "source": [
    "X = np.zeros((total_images_dict, 64, 64, 3), dtype=np.float32)\n",
    "y = np.zeros(total_images_dict, dtype=int)\n",
    "\n",
    "idx = 0\n",
    "for alphabet, images in alphabet_images_dict.items():\n",
    "    for image in images:\n",
    "        img = cv2.imread(str(image))\n",
    "        resized_img = cv2.resize(img,(64, 64))\n",
    "        X[idx] = resized_img\n",
    "        y[idx] = alphabet_labels_dict[alphabet]\n",
    "        idx += 1"
   ]
  },
  {
   "cell_type": "code",
   "execution_count": 9,
   "metadata": {},
   "outputs": [],
   "source": [
    "X_scaled = X / 255"
   ]
  },
  {
   "cell_type": "code",
   "execution_count": 10,
   "metadata": {},
   "outputs": [],
   "source": [
    "from sklearn.model_selection import train_test_split\n",
    "X_train, X_test, y_train, y_test = train_test_split(X_scaled, y, test_size=0.15, random_state=0)"
   ]
  },
  {
   "cell_type": "code",
   "execution_count": 24,
   "metadata": {},
   "outputs": [
    {
     "name": "stdout",
     "output_type": "stream",
     "text": [
      "Epoch 1/39\n",
      "\u001b[1m2310/2310\u001b[0m \u001b[32m━━━━━━━━━━━━━━━━━━━━\u001b[0m\u001b[37m\u001b[0m \u001b[1m285s\u001b[0m 122ms/step - accuracy: 0.3748 - loss: 2.0928\n",
      "Epoch 2/39\n",
      "\u001b[1m2310/2310\u001b[0m \u001b[32m━━━━━━━━━━━━━━━━━━━━\u001b[0m\u001b[37m\u001b[0m \u001b[1m0s\u001b[0m 4us/step - accuracy: 0.7812 - loss: 0.6380    \n",
      "Epoch 3/39\n",
      "\u001b[1m2310/2310\u001b[0m \u001b[32m━━━━━━━━━━━━━━━━━━━━\u001b[0m\u001b[37m\u001b[0m \u001b[1m285s\u001b[0m 124ms/step - accuracy: 0.8598 - loss: 0.4197\n",
      "Epoch 4/39\n",
      "\u001b[1m2310/2310\u001b[0m \u001b[32m━━━━━━━━━━━━━━━━━━━━\u001b[0m\u001b[37m\u001b[0m \u001b[1m0s\u001b[0m 2us/step - accuracy: 0.9375 - loss: 0.1380    \n",
      "Epoch 5/39\n",
      "\u001b[1m2310/2310\u001b[0m \u001b[32m━━━━━━━━━━━━━━━━━━━━\u001b[0m\u001b[37m\u001b[0m \u001b[1m286s\u001b[0m 124ms/step - accuracy: 0.9153 - loss: 0.2572\n",
      "Epoch 6/39\n",
      "\u001b[1m2310/2310\u001b[0m \u001b[32m━━━━━━━━━━━━━━━━━━━━\u001b[0m\u001b[37m\u001b[0m \u001b[1m0s\u001b[0m 2us/step - accuracy: 0.9688 - loss: 0.0988    \n",
      "Epoch 7/39\n",
      "\u001b[1m2310/2310\u001b[0m \u001b[32m━━━━━━━━━━━━━━━━━━━━\u001b[0m\u001b[37m\u001b[0m \u001b[1m287s\u001b[0m 124ms/step - accuracy: 0.9378 - loss: 0.1909\n",
      "Epoch 8/39\n",
      "\u001b[1m2310/2310\u001b[0m \u001b[32m━━━━━━━━━━━━━━━━━━━━\u001b[0m\u001b[37m\u001b[0m \u001b[1m0s\u001b[0m 2us/step - accuracy: 0.9375 - loss: 0.3299    \n",
      "Epoch 9/39\n",
      "\u001b[1m2310/2310\u001b[0m \u001b[32m━━━━━━━━━━━━━━━━━━━━\u001b[0m\u001b[37m\u001b[0m \u001b[1m287s\u001b[0m 124ms/step - accuracy: 0.9442 - loss: 0.1670\n",
      "Epoch 10/39\n",
      "\u001b[1m2310/2310\u001b[0m \u001b[32m━━━━━━━━━━━━━━━━━━━━\u001b[0m\u001b[37m\u001b[0m \u001b[1m0s\u001b[0m 2us/step - accuracy: 0.9688 - loss: 0.4150    \n",
      "Epoch 11/39\n",
      "\u001b[1m2310/2310\u001b[0m \u001b[32m━━━━━━━━━━━━━━━━━━━━\u001b[0m\u001b[37m\u001b[0m \u001b[1m287s\u001b[0m 124ms/step - accuracy: 0.9517 - loss: 0.1477\n",
      "Epoch 12/39\n",
      "\u001b[1m2310/2310\u001b[0m \u001b[32m━━━━━━━━━━━━━━━━━━━━\u001b[0m\u001b[37m\u001b[0m \u001b[1m0s\u001b[0m 2us/step - accuracy: 0.9688 - loss: 0.1590    \n",
      "Epoch 13/39\n",
      "\u001b[1m2310/2310\u001b[0m \u001b[32m━━━━━━━━━━━━━━━━━━━━\u001b[0m\u001b[37m\u001b[0m \u001b[1m284s\u001b[0m 123ms/step - accuracy: 0.9562 - loss: 0.1334\n",
      "Epoch 14/39\n",
      "\u001b[1m2310/2310\u001b[0m \u001b[32m━━━━━━━━━━━━━━━━━━━━\u001b[0m\u001b[37m\u001b[0m \u001b[1m0s\u001b[0m 2us/step - accuracy: 0.9375 - loss: 0.1922    \n",
      "Epoch 15/39\n",
      "\u001b[1m2310/2310\u001b[0m \u001b[32m━━━━━━━━━━━━━━━━━━━━\u001b[0m\u001b[37m\u001b[0m \u001b[1m288s\u001b[0m 125ms/step - accuracy: 0.9610 - loss: 0.1164\n",
      "Epoch 16/39\n",
      "\u001b[1m2310/2310\u001b[0m \u001b[32m━━━━━━━━━━━━━━━━━━━━\u001b[0m\u001b[37m\u001b[0m \u001b[1m0s\u001b[0m 2us/step - accuracy: 1.0000 - loss: 0.0808    \n",
      "Epoch 17/39\n",
      "\u001b[1m2310/2310\u001b[0m \u001b[32m━━━━━━━━━━━━━━━━━━━━\u001b[0m\u001b[37m\u001b[0m \u001b[1m294s\u001b[0m 127ms/step - accuracy: 0.9633 - loss: 0.1082\n",
      "Epoch 18/39\n",
      "\u001b[1m2310/2310\u001b[0m \u001b[32m━━━━━━━━━━━━━━━━━━━━\u001b[0m\u001b[37m\u001b[0m \u001b[1m0s\u001b[0m 2us/step - accuracy: 0.9688 - loss: 0.1154    \n",
      "Epoch 19/39\n",
      "\u001b[1m2310/2310\u001b[0m \u001b[32m━━━━━━━━━━━━━━━━━━━━\u001b[0m\u001b[37m\u001b[0m \u001b[1m287s\u001b[0m 124ms/step - accuracy: 0.9637 - loss: 0.1077\n",
      "Epoch 20/39\n",
      "\u001b[1m2310/2310\u001b[0m \u001b[32m━━━━━━━━━━━━━━━━━━━━\u001b[0m\u001b[37m\u001b[0m \u001b[1m0s\u001b[0m 2us/step - accuracy: 0.9688 - loss: 0.0828    \n",
      "Epoch 21/39\n",
      "\u001b[1m2310/2310\u001b[0m \u001b[32m━━━━━━━━━━━━━━━━━━━━\u001b[0m\u001b[37m\u001b[0m \u001b[1m279s\u001b[0m 121ms/step - accuracy: 0.9678 - loss: 0.0961\n",
      "Epoch 22/39\n",
      "\u001b[1m2310/2310\u001b[0m \u001b[32m━━━━━━━━━━━━━━━━━━━━\u001b[0m\u001b[37m\u001b[0m \u001b[1m0s\u001b[0m 2us/step - accuracy: 1.0000 - loss: 0.0237    \n",
      "Epoch 23/39\n",
      "\u001b[1m2310/2310\u001b[0m \u001b[32m━━━━━━━━━━━━━━━━━━━━\u001b[0m\u001b[37m\u001b[0m \u001b[1m294s\u001b[0m 127ms/step - accuracy: 0.9699 - loss: 0.0924\n",
      "Epoch 24/39\n",
      "\u001b[1m2310/2310\u001b[0m \u001b[32m━━━━━━━━━━━━━━━━━━━━\u001b[0m\u001b[37m\u001b[0m \u001b[1m0s\u001b[0m 2us/step - accuracy: 0.9688 - loss: 0.0513    \n",
      "Epoch 25/39\n",
      "\u001b[1m2310/2310\u001b[0m \u001b[32m━━━━━━━━━━━━━━━━━━━━\u001b[0m\u001b[37m\u001b[0m \u001b[1m286s\u001b[0m 124ms/step - accuracy: 0.9710 - loss: 0.0885\n",
      "Epoch 26/39\n",
      "\u001b[1m2310/2310\u001b[0m \u001b[32m━━━━━━━━━━━━━━━━━━━━\u001b[0m\u001b[37m\u001b[0m \u001b[1m0s\u001b[0m 2us/step - accuracy: 0.9375 - loss: 0.1129    \n",
      "Epoch 27/39\n",
      "\u001b[1m2310/2310\u001b[0m \u001b[32m━━━━━━━━━━━━━━━━━━━━\u001b[0m\u001b[37m\u001b[0m \u001b[1m289s\u001b[0m 125ms/step - accuracy: 0.9743 - loss: 0.0830\n",
      "Epoch 28/39\n",
      "\u001b[1m2310/2310\u001b[0m \u001b[32m━━━━━━━━━━━━━━━━━━━━\u001b[0m\u001b[37m\u001b[0m \u001b[1m0s\u001b[0m 2us/step - accuracy: 1.0000 - loss: 0.0321    \n",
      "Epoch 29/39\n",
      "\u001b[1m2310/2310\u001b[0m \u001b[32m━━━━━━━━━━━━━━━━━━━━\u001b[0m\u001b[37m\u001b[0m \u001b[1m282s\u001b[0m 122ms/step - accuracy: 0.9726 - loss: 0.0847\n",
      "Epoch 30/39\n",
      "\u001b[1m2310/2310\u001b[0m \u001b[32m━━━━━━━━━━━━━━━━━━━━\u001b[0m\u001b[37m\u001b[0m \u001b[1m0s\u001b[0m 2us/step - accuracy: 1.0000 - loss: 0.0269    \n",
      "Epoch 31/39\n",
      "\u001b[1m2310/2310\u001b[0m \u001b[32m━━━━━━━━━━━━━━━━━━━━\u001b[0m\u001b[37m\u001b[0m \u001b[1m286s\u001b[0m 124ms/step - accuracy: 0.9728 - loss: 0.0824\n",
      "Epoch 32/39\n",
      "\u001b[1m2310/2310\u001b[0m \u001b[32m━━━━━━━━━━━━━━━━━━━━\u001b[0m\u001b[37m\u001b[0m \u001b[1m0s\u001b[0m 2us/step - accuracy: 1.0000 - loss: 0.0249    \n",
      "Epoch 33/39\n",
      "\u001b[1m2310/2310\u001b[0m \u001b[32m━━━━━━━━━━━━━━━━━━━━\u001b[0m\u001b[37m\u001b[0m \u001b[1m286s\u001b[0m 124ms/step - accuracy: 0.9735 - loss: 0.0796\n",
      "Epoch 34/39\n",
      "\u001b[1m2310/2310\u001b[0m \u001b[32m━━━━━━━━━━━━━━━━━━━━\u001b[0m\u001b[37m\u001b[0m \u001b[1m0s\u001b[0m 2us/step - accuracy: 1.0000 - loss: 0.0022    \n",
      "Epoch 35/39\n",
      "\u001b[1m2310/2310\u001b[0m \u001b[32m━━━━━━━━━━━━━━━━━━━━\u001b[0m\u001b[37m\u001b[0m \u001b[1m287s\u001b[0m 124ms/step - accuracy: 0.9757 - loss: 0.0734\n",
      "Epoch 36/39\n",
      "\u001b[1m2310/2310\u001b[0m \u001b[32m━━━━━━━━━━━━━━━━━━━━\u001b[0m\u001b[37m\u001b[0m \u001b[1m0s\u001b[0m 3us/step - accuracy: 0.9375 - loss: 0.1649    \n",
      "Epoch 37/39\n",
      "\u001b[1m2310/2310\u001b[0m \u001b[32m━━━━━━━━━━━━━━━━━━━━\u001b[0m\u001b[37m\u001b[0m \u001b[1m285s\u001b[0m 123ms/step - accuracy: 0.9763 - loss: 0.0738\n",
      "Epoch 38/39\n",
      "\u001b[1m2310/2310\u001b[0m \u001b[32m━━━━━━━━━━━━━━━━━━━━\u001b[0m\u001b[37m\u001b[0m \u001b[1m0s\u001b[0m 2us/step - accuracy: 0.9688 - loss: 0.0347    \n",
      "Epoch 39/39\n",
      "\u001b[1m2310/2310\u001b[0m \u001b[32m━━━━━━━━━━━━━━━━━━━━\u001b[0m\u001b[37m\u001b[0m \u001b[1m283s\u001b[0m 123ms/step - accuracy: 0.9762 - loss: 0.0726\n"
     ]
    },
    {
     "data": {
      "text/plain": [
       "<keras.src.callbacks.history.History at 0x21038fcd010>"
      ]
     },
     "execution_count": 24,
     "metadata": {},
     "output_type": "execute_result"
    }
   ],
   "source": [
    "num_classes = 29\n",
    "\n",
    "# Model Definition\n",
    "model = Sequential([\n",
    "    layers.Conv2D(32, 3, padding='same', activation='relu'),\n",
    "    layers.BatchNormalization(),\n",
    "    layers.MaxPooling2D(),\n",
    "    layers.Dropout(0.2),\n",
    "\n",
    "    layers.Conv2D(64, 3, padding='same', activation='relu'),\n",
    "    layers.BatchNormalization(),\n",
    "    layers.MaxPooling2D(),\n",
    "    layers.Dropout(0.2),\n",
    "\n",
    "    layers.Conv2D(128, 3, padding='same', activation='relu'),\n",
    "    layers.BatchNormalization(),\n",
    "    layers.MaxPooling2D(),\n",
    "\n",
    "    layers.GlobalAveragePooling2D(),\n",
    "    layers.Dense(128, activation='relu'),\n",
    "    layers.Dropout(0.4),\n",
    "    layers.Dense(num_classes)\n",
    "])\n",
    "\n",
    "\n",
    "optimizer = tf.keras.optimizers.Adam(learning_rate=0.001)\n",
    "model.compile(\n",
    "    optimizer=optimizer,\n",
    "    loss=tf.keras.losses.SparseCategoricalCrossentropy(from_logits=True),\n",
    "    metrics=['accuracy']\n",
    ")\n",
    "\n",
    "def add_noise(image):\n",
    "    noise = np.random.normal(loc=0, scale=0.05, size=image.shape)\n",
    "    noisy_image = np.clip(image + noise, 0, 1)\n",
    "    return noisy_image\n",
    "\n",
    "datagen = tf.keras.preprocessing.image.ImageDataGenerator(\n",
    "    rotation_range=15,\n",
    "    width_shift_range=0.1,\n",
    "    height_shift_range=0.1,\n",
    "    zoom_range=0.2,\n",
    "    preprocessing_function=add_noise,\n",
    "    shear_range=0.1,\n",
    "    horizontal_flip=False\n",
    ")\n",
    "\n",
    "# Train the Model\n",
    "model.fit(\n",
    "    datagen.flow(X_train, y_train, batch_size=32),  \n",
    "    epochs=39,\n",
    "    steps_per_epoch=len(X_train) // 32  # Ensures one full pass over the dataset per epoch\n",
    ")\n",
    "\n"
   ]
  },
  {
   "cell_type": "code",
   "execution_count": 25,
   "metadata": {},
   "outputs": [
    {
     "name": "stdout",
     "output_type": "stream",
     "text": [
      "\u001b[1m408/408\u001b[0m \u001b[32m━━━━━━━━━━━━━━━━━━━━\u001b[0m\u001b[37m\u001b[0m \u001b[1m9s\u001b[0m 21ms/step - accuracy: 0.9969 - loss: 0.0106\n"
     ]
    },
    {
     "data": {
      "text/plain": [
       "[0.009092948399484158, 0.9973946213722229]"
      ]
     },
     "execution_count": 25,
     "metadata": {},
     "output_type": "execute_result"
    }
   ],
   "source": [
    "model.evaluate(X_test, y_test)"
   ]
  },
  {
   "cell_type": "code",
   "execution_count": 26,
   "metadata": {},
   "outputs": [
    {
     "data": {
      "text/plain": [
       "((13050, 64, 64, 3), (73950, 64, 64, 3))"
      ]
     },
     "execution_count": 26,
     "metadata": {},
     "output_type": "execute_result"
    }
   ],
   "source": [
    "X_test.shape, X_train.shape"
   ]
  },
  {
   "cell_type": "code",
   "execution_count": 27,
   "metadata": {},
   "outputs": [
    {
     "name": "stdout",
     "output_type": "stream",
     "text": [
      "\u001b[1m408/408\u001b[0m \u001b[32m━━━━━━━━━━━━━━━━━━━━\u001b[0m\u001b[37m\u001b[0m \u001b[1m9s\u001b[0m 21ms/step\n"
     ]
    }
   ],
   "source": [
    "predictions = model.predict(X_test)"
   ]
  },
  {
   "cell_type": "code",
   "execution_count": 28,
   "metadata": {},
   "outputs": [
    {
     "name": "stdout",
     "output_type": "stream",
     "text": [
      "\u001b[1m408/408\u001b[0m \u001b[32m━━━━━━━━━━━━━━━━━━━━\u001b[0m\u001b[37m\u001b[0m \u001b[1m9s\u001b[0m 21ms/step\n"
     ]
    },
    {
     "data": {
      "image/png": "[encoded data removed]",
      "text/plain": [
       "<Figure size 1000x800 with 2 Axes>"
      ]
     },
     "metadata": {},
     "output_type": "display_data"
    },
    {
     "data": {
      "text/plain": [
       "'              precision    recall  f1-score   support\\n\\n           0       0.99      1.00      0.99       429\\n           1       0.98      1.00      0.99       436\\n           2       1.00      1.00      1.00       445\\n           3       1.00      1.00      1.00       449\\n           4       1.00      0.99      1.00       456\\n           5       1.00      1.00      1.00       455\\n           6       1.00      1.00      1.00       428\\n           7       0.99      1.00      0.99       455\\n           8       1.00      1.00      1.00       461\\n           9       1.00      1.00      1.00       443\\n          10       1.00      1.00      1.00       485\\n          11       1.00      1.00      1.00       436\\n          12       0.99      0.98      0.98       454\\n          13       1.00      0.99      0.99       447\\n          14       1.00      1.00      1.00       455\\n          15       1.00      1.00      1.00       449\\n          16       1.00      0.99      1.00       475\\n          17       1.00      1.00      1.00       465\\n          18       1.00      1.00      1.00       477\\n          19       1.00      1.00      1.00       415\\n          20       1.00      1.00      1.00       445\\n          21       1.00      1.00      1.00       438\\n          22       1.00      1.00      1.00       444\\n          23       1.00      1.00      1.00       437\\n          24       1.00      1.00      1.00       414\\n          25       1.00      1.00      1.00       488\\n          26       1.00      1.00      1.00       443\\n          27       1.00      1.00      1.00       453\\n          28       0.99      1.00      1.00       473\\n\\n    accuracy                           1.00     13050\\n   macro avg       1.00      1.00      1.00     13050\\nweighted avg       1.00      1.00      1.00     13050\\n'"
      ]
     },
     "execution_count": 28,
     "metadata": {},
     "output_type": "execute_result"
    }
   ],
   "source": [
    "from sklearn.metrics import confusion_matrix, classification_report\n",
    "import seaborn as sns\n",
    "import matplotlib.pyplot as plt\n",
    "\n",
    "y_pred = np.argmax(model.predict(X_test), axis=1)\n",
    "cm = confusion_matrix(y_test, y_pred)\n",
    "\n",
    "plt.figure(figsize=(10, 8))\n",
    "sns.heatmap(cm, annot=True, fmt='d', cmap='Blues')\n",
    "plt.xlabel('Predicted')\n",
    "plt.ylabel('True')\n",
    "plt.title('Confusion Matrix')\n",
    "plt.show()\n",
    "\n",
    "classification_report(y_test, y_pred)\n"
   ]
  },
  {
   "cell_type": "code",
   "execution_count": 29,
   "metadata": {},
   "outputs": [
    {
     "name": "stdout",
     "output_type": "stream",
     "text": [
      "\u001b[1m408/408\u001b[0m \u001b[32m━━━━━━━━━━━━━━━━━━━━\u001b[0m\u001b[37m\u001b[0m \u001b[1m9s\u001b[0m 21ms/step\n"
     ]
    }
   ],
   "source": [
    "y_pred = np.argmax(model.predict(X_test), axis=1)\n"
   ]
  },
  {
   "cell_type": "code",
   "execution_count": 30,
   "metadata": {},
   "outputs": [
    {
     "data": {
      "text/plain": [
       "(array([22,  4, 14, 10, 13,  2, 11, 26, 26, 10,  6,  7, 20, 20, 25],\n",
       "       dtype=int64),\n",
       " array([22,  4, 14, 10, 13,  2, 11, 26, 26, 10,  6,  7, 20, 20, 25]))"
      ]
     },
     "execution_count": 30,
     "metadata": {},
     "output_type": "execute_result"
    }
   ],
   "source": [
    "y_pred[:15], y_test[:15]"
   ]
  },
  {
   "cell_type": "code",
   "execution_count": 31,
   "metadata": {},
   "outputs": [
    {
     "data": {
      "text/plain": [
       "29"
      ]
     },
     "execution_count": 31,
     "metadata": {},
     "output_type": "execute_result"
    }
   ],
   "source": [
    "test_directory = pathlib.Path('dataset-87000/asl_alphabet_test');\n",
    "len(list(test_directory.glob('*/*.jpg')))"
   ]
  },
  {
   "cell_type": "code",
   "execution_count": 32,
   "metadata": {},
   "outputs": [
    {
     "data": {
      "text/plain": [
       "['dataset-87000\\\\asl_alphabet_test\\\\A\\\\A_test.jpg',\n",
       " 'dataset-87000\\\\asl_alphabet_test\\\\B\\\\B_test.jpg',\n",
       " 'dataset-87000\\\\asl_alphabet_test\\\\C\\\\C_test.jpg',\n",
       " 'dataset-87000\\\\asl_alphabet_test\\\\D\\\\D_test.jpg',\n",
       " 'dataset-87000\\\\asl_alphabet_test\\\\del\\\\del_test.jpg',\n",
       " 'dataset-87000\\\\asl_alphabet_test\\\\E\\\\E_test.jpg',\n",
       " 'dataset-87000\\\\asl_alphabet_test\\\\F\\\\F_test.jpg',\n",
       " 'dataset-87000\\\\asl_alphabet_test\\\\G\\\\G_test.jpg',\n",
       " 'dataset-87000\\\\asl_alphabet_test\\\\H\\\\H_test.jpg',\n",
       " 'dataset-87000\\\\asl_alphabet_test\\\\I\\\\I_test.jpg',\n",
       " 'dataset-87000\\\\asl_alphabet_test\\\\J\\\\J_test.jpg',\n",
       " 'dataset-87000\\\\asl_alphabet_test\\\\K\\\\K_test.jpg',\n",
       " 'dataset-87000\\\\asl_alphabet_test\\\\L\\\\L_test.jpg',\n",
       " 'dataset-87000\\\\asl_alphabet_test\\\\M\\\\M_test.jpg',\n",
       " 'dataset-87000\\\\asl_alphabet_test\\\\N\\\\N_test.jpg',\n",
       " 'dataset-87000\\\\asl_alphabet_test\\\\nothing\\\\nothing_test.jpg',\n",
       " 'dataset-87000\\\\asl_alphabet_test\\\\O\\\\O_test.jpg',\n",
       " 'dataset-87000\\\\asl_alphabet_test\\\\P\\\\P_test.jpg',\n",
       " 'dataset-87000\\\\asl_alphabet_test\\\\Q\\\\Q_test.jpg',\n",
       " 'dataset-87000\\\\asl_alphabet_test\\\\R\\\\R_test.jpg',\n",
       " 'dataset-87000\\\\asl_alphabet_test\\\\S\\\\S_test.jpg',\n",
       " 'dataset-87000\\\\asl_alphabet_test\\\\space\\\\space_test.jpg',\n",
       " 'dataset-87000\\\\asl_alphabet_test\\\\T\\\\T_test.jpg',\n",
       " 'dataset-87000\\\\asl_alphabet_test\\\\U\\\\U_test.jpg',\n",
       " 'dataset-87000\\\\asl_alphabet_test\\\\V\\\\V_test.jpg',\n",
       " 'dataset-87000\\\\asl_alphabet_test\\\\W\\\\W_test.jpg',\n",
       " 'dataset-87000\\\\asl_alphabet_test\\\\X\\\\X_test.jpg',\n",
       " 'dataset-87000\\\\asl_alphabet_test\\\\Y\\\\Y_test.jpg',\n",
       " 'dataset-87000\\\\asl_alphabet_test\\\\Z\\\\Z_test.jpg']"
      ]
     },
     "execution_count": 32,
     "metadata": {},
     "output_type": "execute_result"
    }
   ],
   "source": [
    "jpg_files = [str(file) for file in test_directory.glob('*/*.jpg')]\n",
    "jpg_files"
   ]
  },
  {
   "cell_type": "code",
   "execution_count": 33,
   "metadata": {},
   "outputs": [
    {
     "name": "stdout",
     "output_type": "stream",
     "text": [
      "\u001b[1m1/1\u001b[0m \u001b[32m━━━━━━━━━━━━━━━━━━━━\u001b[0m\u001b[37m\u001b[0m \u001b[1m0s\u001b[0m 32ms/step\n",
      "\u001b[1m1/1\u001b[0m \u001b[32m━━━━━━━━━━━━━━━━━━━━\u001b[0m\u001b[37m\u001b[0m \u001b[1m0s\u001b[0m 24ms/step\n",
      "\u001b[1m1/1\u001b[0m \u001b[32m━━━━━━━━━━━━━━━━━━━━\u001b[0m\u001b[37m\u001b[0m \u001b[1m0s\u001b[0m 24ms/step\n",
      "\u001b[1m1/1\u001b[0m \u001b[32m━━━━━━━━━━━━━━━━━━━━\u001b[0m\u001b[37m\u001b[0m \u001b[1m0s\u001b[0m 22ms/step\n",
      "\u001b[1m1/1\u001b[0m \u001b[32m━━━━━━━━━━━━━━━━━━━━\u001b[0m\u001b[37m\u001b[0m \u001b[1m0s\u001b[0m 25ms/step\n",
      "\u001b[1m1/1\u001b[0m \u001b[32m━━━━━━━━━━━━━━━━━━━━\u001b[0m\u001b[37m\u001b[0m \u001b[1m0s\u001b[0m 22ms/step\n",
      "\u001b[1m1/1\u001b[0m \u001b[32m━━━━━━━━━━━━━━━━━━━━\u001b[0m\u001b[37m\u001b[0m \u001b[1m0s\u001b[0m 22ms/step\n",
      "\u001b[1m1/1\u001b[0m \u001b[32m━━━━━━━━━━━━━━━━━━━━\u001b[0m\u001b[37m\u001b[0m \u001b[1m0s\u001b[0m 22ms/step\n",
      "\u001b[1m1/1\u001b[0m \u001b[32m━━━━━━━━━━━━━━━━━━━━\u001b[0m\u001b[37m\u001b[0m \u001b[1m0s\u001b[0m 22ms/step\n",
      "\u001b[1m1/1\u001b[0m \u001b[32m━━━━━━━━━━━━━━━━━━━━\u001b[0m\u001b[37m\u001b[0m \u001b[1m0s\u001b[0m 25ms/step\n",
      "\u001b[1m1/1\u001b[0m \u001b[32m━━━━━━━━━━━━━━━━━━━━\u001b[0m\u001b[37m\u001b[0m \u001b[1m0s\u001b[0m 23ms/step\n",
      "\u001b[1m1/1\u001b[0m \u001b[32m━━━━━━━━━━━━━━━━━━━━\u001b[0m\u001b[37m\u001b[0m \u001b[1m0s\u001b[0m 23ms/step\n",
      "\u001b[1m1/1\u001b[0m \u001b[32m━━━━━━━━━━━━━━━━━━━━\u001b[0m\u001b[37m\u001b[0m \u001b[1m0s\u001b[0m 21ms/step\n",
      "\u001b[1m1/1\u001b[0m \u001b[32m━━━━━━━━━━━━━━━━━━━━\u001b[0m\u001b[37m\u001b[0m \u001b[1m0s\u001b[0m 24ms/step\n",
      "\u001b[1m1/1\u001b[0m \u001b[32m━━━━━━━━━━━━━━━━━━━━\u001b[0m\u001b[37m\u001b[0m \u001b[1m0s\u001b[0m 21ms/step\n",
      "\u001b[1m1/1\u001b[0m \u001b[32m━━━━━━━━━━━━━━━━━━━━\u001b[0m\u001b[37m\u001b[0m \u001b[1m0s\u001b[0m 22ms/step\n",
      "\u001b[1m1/1\u001b[0m \u001b[32m━━━━━━━━━━━━━━━━━━━━\u001b[0m\u001b[37m\u001b[0m \u001b[1m0s\u001b[0m 23ms/step\n",
      "\u001b[1m1/1\u001b[0m \u001b[32m━━━━━━━━━━━━━━━━━━━━\u001b[0m\u001b[37m\u001b[0m \u001b[1m0s\u001b[0m 23ms/step\n",
      "\u001b[1m1/1\u001b[0m \u001b[32m━━━━━━━━━━━━━━━━━━━━\u001b[0m\u001b[37m\u001b[0m \u001b[1m0s\u001b[0m 26ms/step\n",
      "\u001b[1m1/1\u001b[0m \u001b[32m━━━━━━━━━━━━━━━━━━━━\u001b[0m\u001b[37m\u001b[0m \u001b[1m0s\u001b[0m 24ms/step\n",
      "\u001b[1m1/1\u001b[0m \u001b[32m━━━━━━━━━━━━━━━━━━━━\u001b[0m\u001b[37m\u001b[0m \u001b[1m0s\u001b[0m 23ms/step\n",
      "\u001b[1m1/1\u001b[0m \u001b[32m━━━━━━━━━━━━━━━━━━━━\u001b[0m\u001b[37m\u001b[0m \u001b[1m0s\u001b[0m 23ms/step\n",
      "\u001b[1m1/1\u001b[0m \u001b[32m━━━━━━━━━━━━━━━━━━━━\u001b[0m\u001b[37m\u001b[0m \u001b[1m0s\u001b[0m 21ms/step\n",
      "\u001b[1m1/1\u001b[0m \u001b[32m━━━━━━━━━━━━━━━━━━━━\u001b[0m\u001b[37m\u001b[0m \u001b[1m0s\u001b[0m 22ms/step\n",
      "\u001b[1m1/1\u001b[0m \u001b[32m━━━━━━━━━━━━━━━━━━━━\u001b[0m\u001b[37m\u001b[0m \u001b[1m0s\u001b[0m 22ms/step\n",
      "\u001b[1m1/1\u001b[0m \u001b[32m━━━━━━━━━━━━━━━━━━━━\u001b[0m\u001b[37m\u001b[0m \u001b[1m0s\u001b[0m 25ms/step\n",
      "\u001b[1m1/1\u001b[0m \u001b[32m━━━━━━━━━━━━━━━━━━━━\u001b[0m\u001b[37m\u001b[0m \u001b[1m0s\u001b[0m 23ms/step\n",
      "\u001b[1m1/1\u001b[0m \u001b[32m━━━━━━━━━━━━━━━━━━━━\u001b[0m\u001b[37m\u001b[0m \u001b[1m0s\u001b[0m 23ms/step\n",
      "\u001b[1m1/1\u001b[0m \u001b[32m━━━━━━━━━━━━━━━━━━━━\u001b[0m\u001b[37m\u001b[0m \u001b[1m0s\u001b[0m 21ms/step\n"
     ]
    }
   ],
   "source": [
    "predictions_dict = {}\n",
    "for i in jpg_files:\n",
    "    img = cv2.imread(i)\n",
    "    resized_img = cv2.resize(img,(64,64))\n",
    "    scaled_img = resized_img.astype(np.float32) / 255.0\n",
    "    scaled_img = np.expand_dims(scaled_img, axis=0)\n",
    "    pred = np.argmax(model.predict(scaled_img))\n",
    "    predictions_dict[i] = pred"
   ]
  },
  {
   "cell_type": "code",
   "execution_count": 34,
   "metadata": {},
   "outputs": [
    {
     "data": {
      "text/plain": [
       "{'dataset-87000\\\\asl_alphabet_test\\\\A\\\\A_test.jpg': 0,\n",
       " 'dataset-87000\\\\asl_alphabet_test\\\\B\\\\B_test.jpg': 1,\n",
       " 'dataset-87000\\\\asl_alphabet_test\\\\C\\\\C_test.jpg': 2,\n",
       " 'dataset-87000\\\\asl_alphabet_test\\\\D\\\\D_test.jpg': 3,\n",
       " 'dataset-87000\\\\asl_alphabet_test\\\\del\\\\del_test.jpg': 26,\n",
       " 'dataset-87000\\\\asl_alphabet_test\\\\E\\\\E_test.jpg': 4,\n",
       " 'dataset-87000\\\\asl_alphabet_test\\\\F\\\\F_test.jpg': 5,\n",
       " 'dataset-87000\\\\asl_alphabet_test\\\\G\\\\G_test.jpg': 6,\n",
       " 'dataset-87000\\\\asl_alphabet_test\\\\H\\\\H_test.jpg': 7,\n",
       " 'dataset-87000\\\\asl_alphabet_test\\\\I\\\\I_test.jpg': 8,\n",
       " 'dataset-87000\\\\asl_alphabet_test\\\\J\\\\J_test.jpg': 9,\n",
       " 'dataset-87000\\\\asl_alphabet_test\\\\K\\\\K_test.jpg': 10,\n",
       " 'dataset-87000\\\\asl_alphabet_test\\\\L\\\\L_test.jpg': 11,\n",
       " 'dataset-87000\\\\asl_alphabet_test\\\\M\\\\M_test.jpg': 12,\n",
       " 'dataset-87000\\\\asl_alphabet_test\\\\N\\\\N_test.jpg': 13,\n",
       " 'dataset-87000\\\\asl_alphabet_test\\\\nothing\\\\nothing_test.jpg': 27,\n",
       " 'dataset-87000\\\\asl_alphabet_test\\\\O\\\\O_test.jpg': 14,\n",
       " 'dataset-87000\\\\asl_alphabet_test\\\\P\\\\P_test.jpg': 15,\n",
       " 'dataset-87000\\\\asl_alphabet_test\\\\Q\\\\Q_test.jpg': 16,\n",
       " 'dataset-87000\\\\asl_alphabet_test\\\\R\\\\R_test.jpg': 17,\n",
       " 'dataset-87000\\\\asl_alphabet_test\\\\S\\\\S_test.jpg': 18,\n",
       " 'dataset-87000\\\\asl_alphabet_test\\\\space\\\\space_test.jpg': 28,\n",
       " 'dataset-87000\\\\asl_alphabet_test\\\\T\\\\T_test.jpg': 19,\n",
       " 'dataset-87000\\\\asl_alphabet_test\\\\U\\\\U_test.jpg': 20,\n",
       " 'dataset-87000\\\\asl_alphabet_test\\\\V\\\\V_test.jpg': 21,\n",
       " 'dataset-87000\\\\asl_alphabet_test\\\\W\\\\W_test.jpg': 22,\n",
       " 'dataset-87000\\\\asl_alphabet_test\\\\X\\\\X_test.jpg': 23,\n",
       " 'dataset-87000\\\\asl_alphabet_test\\\\Y\\\\Y_test.jpg': 24,\n",
       " 'dataset-87000\\\\asl_alphabet_test\\\\Z\\\\Z_test.jpg': 25}"
      ]
     },
     "execution_count": 34,
     "metadata": {},
     "output_type": "execute_result"
    }
   ],
   "source": [
    "predictions_dict"
   ]
  },
  {
   "cell_type": "code",
   "execution_count": 35,
   "metadata": {},
   "outputs": [],
   "source": [
    "for key, value in predictions_dict.items():\n",
    "    for alpha, label in alphabet_labels_dict.items():\n",
    "        if value == label:\n",
    "            predictions_dict[key] = alpha"
   ]
  },
  {
   "cell_type": "code",
   "execution_count": 36,
   "metadata": {},
   "outputs": [
    {
     "data": {
      "text/plain": [
       "{'dataset-87000\\\\asl_alphabet_test\\\\A\\\\A_test.jpg': 'A',\n",
       " 'dataset-87000\\\\asl_alphabet_test\\\\B\\\\B_test.jpg': 'B',\n",
       " 'dataset-87000\\\\asl_alphabet_test\\\\C\\\\C_test.jpg': 'C',\n",
       " 'dataset-87000\\\\asl_alphabet_test\\\\D\\\\D_test.jpg': 'D',\n",
       " 'dataset-87000\\\\asl_alphabet_test\\\\del\\\\del_test.jpg': 'del',\n",
       " 'dataset-87000\\\\asl_alphabet_test\\\\E\\\\E_test.jpg': 'E',\n",
       " 'dataset-87000\\\\asl_alphabet_test\\\\F\\\\F_test.jpg': 'F',\n",
       " 'dataset-87000\\\\asl_alphabet_test\\\\G\\\\G_test.jpg': 'G',\n",
       " 'dataset-87000\\\\asl_alphabet_test\\\\H\\\\H_test.jpg': 'H',\n",
       " 'dataset-87000\\\\asl_alphabet_test\\\\I\\\\I_test.jpg': 'I',\n",
       " 'dataset-87000\\\\asl_alphabet_test\\\\J\\\\J_test.jpg': 'J',\n",
       " 'dataset-87000\\\\asl_alphabet_test\\\\K\\\\K_test.jpg': 'K',\n",
       " 'dataset-87000\\\\asl_alphabet_test\\\\L\\\\L_test.jpg': 'L',\n",
       " 'dataset-87000\\\\asl_alphabet_test\\\\M\\\\M_test.jpg': 'M',\n",
       " 'dataset-87000\\\\asl_alphabet_test\\\\N\\\\N_test.jpg': 'N',\n",
       " 'dataset-87000\\\\asl_alphabet_test\\\\nothing\\\\nothing_test.jpg': 'nothing',\n",
       " 'dataset-87000\\\\asl_alphabet_test\\\\O\\\\O_test.jpg': 'O',\n",
       " 'dataset-87000\\\\asl_alphabet_test\\\\P\\\\P_test.jpg': 'P',\n",
       " 'dataset-87000\\\\asl_alphabet_test\\\\Q\\\\Q_test.jpg': 'Q',\n",
       " 'dataset-87000\\\\asl_alphabet_test\\\\R\\\\R_test.jpg': 'R',\n",
       " 'dataset-87000\\\\asl_alphabet_test\\\\S\\\\S_test.jpg': 'S',\n",
       " 'dataset-87000\\\\asl_alphabet_test\\\\space\\\\space_test.jpg': 'space',\n",
       " 'dataset-87000\\\\asl_alphabet_test\\\\T\\\\T_test.jpg': 'T',\n",
       " 'dataset-87000\\\\asl_alphabet_test\\\\U\\\\U_test.jpg': 'U',\n",
       " 'dataset-87000\\\\asl_alphabet_test\\\\V\\\\V_test.jpg': 'V',\n",
       " 'dataset-87000\\\\asl_alphabet_test\\\\W\\\\W_test.jpg': 'W',\n",
       " 'dataset-87000\\\\asl_alphabet_test\\\\X\\\\X_test.jpg': 'X',\n",
       " 'dataset-87000\\\\asl_alphabet_test\\\\Y\\\\Y_test.jpg': 'Y',\n",
       " 'dataset-87000\\\\asl_alphabet_test\\\\Z\\\\Z_test.jpg': 'Z'}"
      ]
     },
     "execution_count": 36,
     "metadata": {},
     "output_type": "execute_result"
    }
   ],
   "source": [
    "predictions_dict"
   ]
  },
  {
   "cell_type": "code",
   "execution_count": 37,
   "metadata": {},
   "outputs": [],
   "source": [
    "model.save('SignLanguageRecognition-87000.keras')"
   ]
  }
 ],
 "metadata": {
  "kernelspec": {
   "display_name": "Python 3",
   "language": "python",
   "name": "python3"
  },
  "language_info": {
   "codemirror_mode": {
    "name": "ipython",
    "version": 3
   },
   "file_extension": ".py",
   "mimetype": "text/x-python",
   "name": "python",
   "nbconvert_exporter": "python",
   "pygments_lexer": "ipython3",
   "version": "3.11.0"
  }
 },
 "nbformat": 4,
 "nbformat_minor": 2
}
