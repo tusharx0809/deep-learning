{
 "cells": [
  {
   "cell_type": "code",
   "execution_count": 95,
   "metadata": {},
   "outputs": [],
   "source": [
    "import pandas as pd\n",
    "import numpy as np\n",
    "import tensorflow as tf\n",
    "from tensorflow.keras import datasets, layers, models\n",
    "import matplotlib.pyplot as plt\n",
    "import pathlib\n",
    "import cv2\n",
    "import PIL \n",
    "import tensorflow as tf\n",
    "from tensorflow import keras\n",
    "from tensorflow.keras import layers\n",
    "from tensorflow.keras.models import Sequential"
   ]
  },
  {
   "cell_type": "code",
   "execution_count": 96,
   "metadata": {},
   "outputs": [
    {
     "data": {
      "text/plain": [
       "0"
      ]
     },
     "execution_count": 96,
     "metadata": {},
     "output_type": "execute_result"
    }
   ],
   "source": [
    "data_directory = pathlib.Path('dataset/')\n",
    "len(list(data_directory.glob('*/*.jpg')))"
   ]
  },
  {
   "cell_type": "code",
   "execution_count": 97,
   "metadata": {},
   "outputs": [
    {
     "ename": "FileNotFoundError",
     "evalue": "[WinError 3] The system cannot find the path specified: 'D:/college/Python/github/deep-learning/projects/DogBreedsClassification/dataset'",
     "output_type": "error",
     "traceback": [
      "\u001b[1;31m---------------------------------------------------------------------------\u001b[0m",
      "\u001b[1;31mFileNotFoundError\u001b[0m                         Traceback (most recent call last)",
      "Cell \u001b[1;32mIn[97], line 4\u001b[0m\n\u001b[0;32m      1\u001b[0m \u001b[38;5;28;01mimport\u001b[39;00m \u001b[38;5;21;01mos\u001b[39;00m\n\u001b[0;32m      2\u001b[0m directory \u001b[38;5;241m=\u001b[39m \u001b[38;5;124m\"\u001b[39m\u001b[38;5;124mD:/college/Python/github/deep-learning/projects/DogBreedsClassification/dataset\u001b[39m\u001b[38;5;124m\"\u001b[39m\n\u001b[1;32m----> 4\u001b[0m breed_names \u001b[38;5;241m=\u001b[39m [name \u001b[38;5;28;01mfor\u001b[39;00m name \u001b[38;5;129;01min\u001b[39;00m \u001b[43mos\u001b[49m\u001b[38;5;241;43m.\u001b[39;49m\u001b[43mlistdir\u001b[49m\u001b[43m(\u001b[49m\u001b[43mdirectory\u001b[49m\u001b[43m)\u001b[49m \u001b[38;5;28;01mif\u001b[39;00m os\u001b[38;5;241m.\u001b[39mpath\u001b[38;5;241m.\u001b[39misdir(os\u001b[38;5;241m.\u001b[39mpath\u001b[38;5;241m.\u001b[39mjoin(directory, name))]\n\u001b[0;32m      6\u001b[0m breed_names\n",
      "\u001b[1;31mFileNotFoundError\u001b[0m: [WinError 3] The system cannot find the path specified: 'D:/college/Python/github/deep-learning/projects/DogBreedsClassification/dataset'"
     ]
    }
   ],
   "source": [
    "import os\n",
    "directory = \"D:/college/Python/github/deep-learning/projects/DogBreedsClassification/dataset\"\n",
    "\n",
    "breed_names = [name for name in os.listdir(directory) if os.path.isdir(os.path.join(directory, name))]\n",
    "\n",
    "breed_names"
   ]
  },
  {
   "cell_type": "code",
   "execution_count": 32,
   "metadata": {},
   "outputs": [
    {
     "data": {
      "text/plain": [
       "[WindowsPath('dataset/corgi/corgi1.jpg'),\n",
       " WindowsPath('dataset/corgi/corgi10.jpg'),\n",
       " WindowsPath('dataset/corgi/corgi100.jpg'),\n",
       " WindowsPath('dataset/corgi/corgi11.jpg'),\n",
       " WindowsPath('dataset/corgi/corgi15.jpg'),\n",
       " WindowsPath('dataset/corgi/corgi16.jpg'),\n",
       " WindowsPath('dataset/corgi/corgi17.jpg'),\n",
       " WindowsPath('dataset/corgi/corgi18.jpg'),\n",
       " WindowsPath('dataset/corgi/corgi19.jpg'),\n",
       " WindowsPath('dataset/corgi/corgi2.jpg'),\n",
       " WindowsPath('dataset/corgi/corgi20.jpg'),\n",
       " WindowsPath('dataset/corgi/corgi21.jpg'),\n",
       " WindowsPath('dataset/corgi/corgi22.jpg'),\n",
       " WindowsPath('dataset/corgi/corgi23.jpg'),\n",
       " WindowsPath('dataset/corgi/corgi24.jpg'),\n",
       " WindowsPath('dataset/corgi/corgi25.jpg'),\n",
       " WindowsPath('dataset/corgi/corgi26.jpg'),\n",
       " WindowsPath('dataset/corgi/corgi27.jpg'),\n",
       " WindowsPath('dataset/corgi/corgi28.jpg'),\n",
       " WindowsPath('dataset/corgi/corgi3.jpg'),\n",
       " WindowsPath('dataset/corgi/corgi30.jpg'),\n",
       " WindowsPath('dataset/corgi/corgi31.jpg'),\n",
       " WindowsPath('dataset/corgi/corgi32.jpg'),\n",
       " WindowsPath('dataset/corgi/corgi33.jpg'),\n",
       " WindowsPath('dataset/corgi/corgi34.jpg'),\n",
       " WindowsPath('dataset/corgi/corgi35.jpg'),\n",
       " WindowsPath('dataset/corgi/corgi36.jpg'),\n",
       " WindowsPath('dataset/corgi/corgi37.jpg'),\n",
       " WindowsPath('dataset/corgi/corgi38.jpg'),\n",
       " WindowsPath('dataset/corgi/corgi4.jpg'),\n",
       " WindowsPath('dataset/corgi/corgi40.jpg'),\n",
       " WindowsPath('dataset/corgi/corgi41.jpg'),\n",
       " WindowsPath('dataset/corgi/corgi42.jpg'),\n",
       " WindowsPath('dataset/corgi/corgi43.jpg'),\n",
       " WindowsPath('dataset/corgi/corgi44.jpg'),\n",
       " WindowsPath('dataset/corgi/corgi45.jpg'),\n",
       " WindowsPath('dataset/corgi/corgi46.jpg'),\n",
       " WindowsPath('dataset/corgi/corgi47.jpg'),\n",
       " WindowsPath('dataset/corgi/corgi48.jpg'),\n",
       " WindowsPath('dataset/corgi/corgi49.jpg'),\n",
       " WindowsPath('dataset/corgi/corgi5.jpg'),\n",
       " WindowsPath('dataset/corgi/corgi50.jpg'),\n",
       " WindowsPath('dataset/corgi/corgi51.jpg'),\n",
       " WindowsPath('dataset/corgi/corgi52.jpg'),\n",
       " WindowsPath('dataset/corgi/corgi53.jpg'),\n",
       " WindowsPath('dataset/corgi/corgi54.jpg'),\n",
       " WindowsPath('dataset/corgi/corgi55.jpg'),\n",
       " WindowsPath('dataset/corgi/corgi57.jpg'),\n",
       " WindowsPath('dataset/corgi/corgi58.jpg'),\n",
       " WindowsPath('dataset/corgi/corgi59.jpg'),\n",
       " WindowsPath('dataset/corgi/corgi6.jpg'),\n",
       " WindowsPath('dataset/corgi/corgi60.jpg'),\n",
       " WindowsPath('dataset/corgi/corgi61.jpg'),\n",
       " WindowsPath('dataset/corgi/corgi62.jpg'),\n",
       " WindowsPath('dataset/corgi/corgi63.jpg'),\n",
       " WindowsPath('dataset/corgi/corgi64.jpg'),\n",
       " WindowsPath('dataset/corgi/corgi65.jpg'),\n",
       " WindowsPath('dataset/corgi/corgi66.jpg'),\n",
       " WindowsPath('dataset/corgi/corgi67.jpg'),\n",
       " WindowsPath('dataset/corgi/corgi68.jpg'),\n",
       " WindowsPath('dataset/corgi/corgi69.jpg'),\n",
       " WindowsPath('dataset/corgi/corgi7.jpg'),\n",
       " WindowsPath('dataset/corgi/corgi70.jpg'),\n",
       " WindowsPath('dataset/corgi/corgi72.jpg'),\n",
       " WindowsPath('dataset/corgi/corgi73.jpg'),\n",
       " WindowsPath('dataset/corgi/corgi74.jpg'),\n",
       " WindowsPath('dataset/corgi/corgi75.jpg'),\n",
       " WindowsPath('dataset/corgi/corgi76.jpg'),\n",
       " WindowsPath('dataset/corgi/corgi77.jpg'),\n",
       " WindowsPath('dataset/corgi/corgi78.jpg'),\n",
       " WindowsPath('dataset/corgi/corgi79.jpg'),\n",
       " WindowsPath('dataset/corgi/corgi8.jpg'),\n",
       " WindowsPath('dataset/corgi/corgi80.jpg'),\n",
       " WindowsPath('dataset/corgi/corgi81.jpg'),\n",
       " WindowsPath('dataset/corgi/corgi82.jpg'),\n",
       " WindowsPath('dataset/corgi/corgi83.jpg'),\n",
       " WindowsPath('dataset/corgi/corgi84.jpg'),\n",
       " WindowsPath('dataset/corgi/corgi85.jpg'),\n",
       " WindowsPath('dataset/corgi/corgi86.jpg'),\n",
       " WindowsPath('dataset/corgi/corgi87.jpg'),\n",
       " WindowsPath('dataset/corgi/corgi88.jpg'),\n",
       " WindowsPath('dataset/corgi/corgi89.jpg'),\n",
       " WindowsPath('dataset/corgi/corgi9.jpg'),\n",
       " WindowsPath('dataset/corgi/corgi90.jpg'),\n",
       " WindowsPath('dataset/corgi/corgi91.jpg'),\n",
       " WindowsPath('dataset/corgi/corgi92.jpg'),\n",
       " WindowsPath('dataset/corgi/corgi93.jpg'),\n",
       " WindowsPath('dataset/corgi/corgi94.jpg'),\n",
       " WindowsPath('dataset/corgi/corgi95.jpg'),\n",
       " WindowsPath('dataset/corgi/corgi96.jpg'),\n",
       " WindowsPath('dataset/corgi/corgi97.jpg'),\n",
       " WindowsPath('dataset/corgi/corgi99.jpg')]"
      ]
     },
     "execution_count": 32,
     "metadata": {},
     "output_type": "execute_result"
    }
   ],
   "source": [
    "breed_names_dict = {\n",
    "    folder: list(data_directory.glob(f\"{folder}/*\"))\n",
    "    for folder in os.listdir(data_directory)\n",
    "    if(data_directory / folder).is_dir()\n",
    "}\n",
    "\n",
    "breed_names_dict['corgi']"
   ]
  },
  {
   "cell_type": "code",
   "execution_count": 33,
   "metadata": {},
   "outputs": [],
   "source": [
    "breed_labels_dict = {folder: index for index, folder in enumerate(breed_names)}"
   ]
  },
  {
   "cell_type": "code",
   "execution_count": 34,
   "metadata": {},
   "outputs": [
    {
     "data": {
      "text/plain": [
       "{'bernese_mountain_dog': 0,\n",
       " 'border_collie': 1,\n",
       " 'chihuahua': 2,\n",
       " 'corgi': 3,\n",
       " 'dachshund': 4,\n",
       " 'golden_retriever': 5,\n",
       " 'jack_russell': 6,\n",
       " 'labrador': 7,\n",
       " 'pug': 8,\n",
       " 'siberian_husky': 9}"
      ]
     },
     "execution_count": 34,
     "metadata": {},
     "output_type": "execute_result"
    }
   ],
   "source": [
    "breed_labels_dict"
   ]
  },
  {
   "cell_type": "code",
   "execution_count": null,
   "metadata": {},
   "outputs": [],
   "source": [
    "X, y = [], []\n",
    "\n",
    "for breed_name, images in breed_names_dict.items():\n",
    "    for image in images:\n",
    "        img = cv2.imread(str(image))\n",
    "        resized_img = cv2.resize(img,(180,180))\n",
    "        X.append(resized_img)\n",
    "        y.append(breed_labels_dict[breed_name])"
   ]
  },
  {
   "cell_type": "code",
   "execution_count": 40,
   "metadata": {},
   "outputs": [],
   "source": [
    "X = np.array(X) \n",
    "y = np.array(y)"
   ]
  },
  {
   "cell_type": "code",
   "execution_count": 62,
   "metadata": {},
   "outputs": [
    {
     "data": {
      "text/plain": [
       "(180, 180, 3)"
      ]
     },
     "execution_count": 62,
     "metadata": {},
     "output_type": "execute_result"
    }
   ],
   "source": [
    "X.shape\n",
    "#X contains 918 elements, each representing an image of (180, 180) pixels where each pixel has an RGB value, making it a 3D Matrix of (180,180,3)"
   ]
  },
  {
   "cell_type": "code",
   "execution_count": 63,
   "metadata": {},
   "outputs": [
    {
     "data": {
      "text/plain": [
       "(180, 180, 3)"
      ]
     },
     "execution_count": 63,
     "metadata": {},
     "output_type": "execute_result"
    }
   ],
   "source": [
    "X[0].shape\n",
    "#X[0] elements is a matrix of 180,180,3 represening first image"
   ]
  },
  {
   "cell_type": "code",
   "execution_count": 65,
   "metadata": {},
   "outputs": [
    {
     "data": {
      "text/plain": [
       "0"
      ]
     },
     "execution_count": 65,
     "metadata": {},
     "output_type": "execute_result"
    }
   ],
   "source": [
    "y[0]\n",
    "#0 represents the first dog breed which is bernese mountain dog"
   ]
  },
  {
   "cell_type": "code",
   "execution_count": 71,
   "metadata": {},
   "outputs": [],
   "source": [
    "from sklearn.model_selection import train_test_split\n",
    "X_train, X_test, y_train, y_test = train_test_split(X, y,test_size=0.2, random_state=0)"
   ]
  },
  {
   "cell_type": "code",
   "execution_count": 73,
   "metadata": {},
   "outputs": [
    {
     "data": {
      "text/plain": [
       "((734, 180, 180, 3), (184, 180, 180, 3))"
      ]
     },
     "execution_count": 73,
     "metadata": {},
     "output_type": "execute_result"
    }
   ],
   "source": [
    "X_train.shape, X_test.shape \n",
    "#dataset divided into training and test"
   ]
  },
  {
   "cell_type": "code",
   "execution_count": 74,
   "metadata": {},
   "outputs": [],
   "source": [
    "X_train_scaled = X_train / 255\n",
    "X_test_scaled = X_test / 255"
   ]
  }
 ],
 "metadata": {
  "kernelspec": {
   "display_name": "Python 3",
   "language": "python",
   "name": "python3"
  },
  "language_info": {
   "codemirror_mode": {
    "name": "ipython",
    "version": 3
   },
   "file_extension": ".py",
   "mimetype": "text/x-python",
   "name": "python",
   "nbconvert_exporter": "python",
   "pygments_lexer": "ipython3",
   "version": "3.11.0"
  }
 },
 "nbformat": 4,
 "nbformat_minor": 2
}
